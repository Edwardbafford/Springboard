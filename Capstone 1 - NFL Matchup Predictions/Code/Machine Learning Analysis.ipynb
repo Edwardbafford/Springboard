{
 "cells": [
  {
   "cell_type": "markdown",
   "metadata": {},
   "source": [
    "# Machine Learning Analysis\n",
    "\n",
    "We attempt to build a model which is able to predict the outcome of an NFL game based on a set of matchup statistics. We first load the data and necessary imports."
   ]
  },
  {
   "cell_type": "code",
   "execution_count": 2,
   "metadata": {},
   "outputs": [],
   "source": [
    "%matplotlib inline \n",
    "\n",
    "import numpy as np\n",
    "import pandas as pd\n",
    "import scipy.stats as stats\n",
    "import matplotlib.pyplot as plt\n",
    "import sklearn\n",
    "import seaborn as sns\n",
    "\n",
    "plt.style.use('seaborn')\n",
    "pd.options.mode.chained_assignment = None"
   ]
  },
  {
   "cell_type": "code",
   "execution_count": 3,
   "metadata": {},
   "outputs": [],
   "source": [
    "#Replace with proper path\n",
    "path='C:\\\\Users\\\\Louie\\\\Repositories\\\\Springboard\\\\Capstone 1 - NFL Matchup Predictions\\\\Code\\\\Data Wrangling\\\\Data\\\\'\n",
    "\n",
    "data = pd.read_csv(path + 'nfl_matchups.csv')"
   ]
  },
  {
   "cell_type": "code",
   "execution_count": 4,
   "metadata": {},
   "outputs": [
    {
     "data": {
      "text/html": [
       "<div>\n",
       "<style scoped>\n",
       "    .dataframe tbody tr th:only-of-type {\n",
       "        vertical-align: middle;\n",
       "    }\n",
       "\n",
       "    .dataframe tbody tr th {\n",
       "        vertical-align: top;\n",
       "    }\n",
       "\n",
       "    .dataframe thead th {\n",
       "        text-align: right;\n",
       "    }\n",
       "</style>\n",
       "<table border=\"1\" class=\"dataframe\">\n",
       "  <thead>\n",
       "    <tr style=\"text-align: right;\">\n",
       "      <th></th>\n",
       "      <th>home</th>\n",
       "      <th>home_score</th>\n",
       "      <th>away</th>\n",
       "      <th>away_score</th>\n",
       "      <th>diff</th>\n",
       "      <th>home_win</th>\n",
       "      <th>week</th>\n",
       "      <th>pyds_home</th>\n",
       "      <th>ryds_home</th>\n",
       "      <th>totfd_home</th>\n",
       "      <th>...</th>\n",
       "      <th>max_yards_per_catch_away</th>\n",
       "      <th>rec_yards_max_away</th>\n",
       "      <th>rec_spread_away</th>\n",
       "      <th>max_sacks_away</th>\n",
       "      <th>max_tackles_away</th>\n",
       "      <th>sacks_away</th>\n",
       "      <th>int_take_away</th>\n",
       "      <th>forced_fumbles_away</th>\n",
       "      <th>qb_pass_to_run_away</th>\n",
       "      <th>rb_run_to_catch_away</th>\n",
       "    </tr>\n",
       "  </thead>\n",
       "  <tbody>\n",
       "    <tr>\n",
       "      <th>0</th>\n",
       "      <td>PIT</td>\n",
       "      <td>13</td>\n",
       "      <td>TEN</td>\n",
       "      <td>10</td>\n",
       "      <td>3</td>\n",
       "      <td>1</td>\n",
       "      <td>1</td>\n",
       "      <td>4148</td>\n",
       "      <td>1790</td>\n",
       "      <td>331</td>\n",
       "      <td>...</td>\n",
       "      <td>16.69</td>\n",
       "      <td>701</td>\n",
       "      <td>9.91</td>\n",
       "      <td>6</td>\n",
       "      <td>93</td>\n",
       "      <td>33</td>\n",
       "      <td>20</td>\n",
       "      <td>13</td>\n",
       "      <td>0.82</td>\n",
       "      <td>0.88</td>\n",
       "    </tr>\n",
       "    <tr>\n",
       "      <th>1</th>\n",
       "      <td>HOU</td>\n",
       "      <td>17</td>\n",
       "      <td>TEN</td>\n",
       "      <td>20</td>\n",
       "      <td>-3</td>\n",
       "      <td>0</td>\n",
       "      <td>11</td>\n",
       "      <td>4650</td>\n",
       "      <td>1475</td>\n",
       "      <td>340</td>\n",
       "      <td>...</td>\n",
       "      <td>16.69</td>\n",
       "      <td>701</td>\n",
       "      <td>9.91</td>\n",
       "      <td>6</td>\n",
       "      <td>93</td>\n",
       "      <td>33</td>\n",
       "      <td>20</td>\n",
       "      <td>13</td>\n",
       "      <td>0.82</td>\n",
       "      <td>0.88</td>\n",
       "    </tr>\n",
       "    <tr>\n",
       "      <th>2</th>\n",
       "      <td>IND</td>\n",
       "      <td>27</td>\n",
       "      <td>TEN</td>\n",
       "      <td>17</td>\n",
       "      <td>10</td>\n",
       "      <td>1</td>\n",
       "      <td>13</td>\n",
       "      <td>4515</td>\n",
       "      <td>1294</td>\n",
       "      <td>339</td>\n",
       "      <td>...</td>\n",
       "      <td>16.69</td>\n",
       "      <td>701</td>\n",
       "      <td>9.91</td>\n",
       "      <td>6</td>\n",
       "      <td>93</td>\n",
       "      <td>33</td>\n",
       "      <td>20</td>\n",
       "      <td>13</td>\n",
       "      <td>0.82</td>\n",
       "      <td>0.88</td>\n",
       "    </tr>\n",
       "    <tr>\n",
       "      <th>3</th>\n",
       "      <td>SEA</td>\n",
       "      <td>13</td>\n",
       "      <td>TEN</td>\n",
       "      <td>17</td>\n",
       "      <td>-4</td>\n",
       "      <td>0</td>\n",
       "      <td>17</td>\n",
       "      <td>3503</td>\n",
       "      <td>1566</td>\n",
       "      <td>297</td>\n",
       "      <td>...</td>\n",
       "      <td>16.69</td>\n",
       "      <td>701</td>\n",
       "      <td>9.91</td>\n",
       "      <td>6</td>\n",
       "      <td>93</td>\n",
       "      <td>33</td>\n",
       "      <td>20</td>\n",
       "      <td>13</td>\n",
       "      <td>0.82</td>\n",
       "      <td>0.88</td>\n",
       "    </tr>\n",
       "    <tr>\n",
       "      <th>4</th>\n",
       "      <td>NE</td>\n",
       "      <td>59</td>\n",
       "      <td>TEN</td>\n",
       "      <td>0</td>\n",
       "      <td>59</td>\n",
       "      <td>1</td>\n",
       "      <td>6</td>\n",
       "      <td>4436</td>\n",
       "      <td>1921</td>\n",
       "      <td>373</td>\n",
       "      <td>...</td>\n",
       "      <td>16.69</td>\n",
       "      <td>701</td>\n",
       "      <td>9.91</td>\n",
       "      <td>6</td>\n",
       "      <td>93</td>\n",
       "      <td>33</td>\n",
       "      <td>20</td>\n",
       "      <td>13</td>\n",
       "      <td>0.82</td>\n",
       "      <td>0.88</td>\n",
       "    </tr>\n",
       "  </tbody>\n",
       "</table>\n",
       "<p>5 rows × 53 columns</p>\n",
       "</div>"
      ],
      "text/plain": [
       "  home  home_score away  away_score  diff  home_win  week  pyds_home  \\\n",
       "0  PIT          13  TEN          10     3         1     1       4148   \n",
       "1  HOU          17  TEN          20    -3         0    11       4650   \n",
       "2  IND          27  TEN          17    10         1    13       4515   \n",
       "3  SEA          13  TEN          17    -4         0    17       3503   \n",
       "4   NE          59  TEN           0    59         1     6       4436   \n",
       "\n",
       "   ryds_home  totfd_home          ...           max_yards_per_catch_away  \\\n",
       "0       1790         331          ...                              16.69   \n",
       "1       1475         340          ...                              16.69   \n",
       "2       1294         339          ...                              16.69   \n",
       "3       1566         297          ...                              16.69   \n",
       "4       1921         373          ...                              16.69   \n",
       "\n",
       "   rec_yards_max_away  rec_spread_away  max_sacks_away  max_tackles_away  \\\n",
       "0                 701             9.91               6                93   \n",
       "1                 701             9.91               6                93   \n",
       "2                 701             9.91               6                93   \n",
       "3                 701             9.91               6                93   \n",
       "4                 701             9.91               6                93   \n",
       "\n",
       "   sacks_away  int_take_away  forced_fumbles_away  qb_pass_to_run_away  \\\n",
       "0          33             20                   13                 0.82   \n",
       "1          33             20                   13                 0.82   \n",
       "2          33             20                   13                 0.82   \n",
       "3          33             20                   13                 0.82   \n",
       "4          33             20                   13                 0.82   \n",
       "\n",
       "   rb_run_to_catch_away  \n",
       "0                  0.88  \n",
       "1                  0.88  \n",
       "2                  0.88  \n",
       "3                  0.88  \n",
       "4                  0.88  \n",
       "\n",
       "[5 rows x 53 columns]"
      ]
     },
     "execution_count": 4,
     "metadata": {},
     "output_type": "execute_result"
    }
   ],
   "source": [
    "data.head()"
   ]
  },
  {
   "cell_type": "markdown",
   "metadata": {},
   "source": [
    "### Train-Test Split\n",
    "Partition the data into training and test sets. Test set will be used to evaluate the performance of our final model. Training data will be used for tuning our models. Here we also set up our predicted values and features to begin training models."
   ]
  },
  {
   "cell_type": "code",
   "execution_count": 5,
   "metadata": {},
   "outputs": [],
   "source": [
    "from sklearn.model_selection import train_test_split\n",
    "\n",
    "X_y = data[data.columns[4:]]\n",
    "\n",
    "train, test = train_test_split(X_y, test_size=0.2, random_state=9876)"
   ]
  },
  {
   "cell_type": "code",
   "execution_count": 6,
   "metadata": {},
   "outputs": [],
   "source": [
    "train.to_csv(path + 'train.csv')\n",
    "test.to_csv(path + 'test.csv')"
   ]
  },
  {
   "cell_type": "code",
   "execution_count": 7,
   "metadata": {},
   "outputs": [],
   "source": [
    "y_reg = train['diff']\n",
    "y_class = train['home_win']\n",
    "\n",
    "#Bug from older code fixed here\n",
    "train['rb_run_to_catch_away'] = train['rb_run_to_catch_away'].fillna(1)\n",
    "train['rb_run_to_catch_home'] = train['rb_run_to_catch_home'].fillna(1)\n",
    "\n",
    "X = train[train.columns[2:]]"
   ]
  },
  {
   "cell_type": "markdown",
   "metadata": {},
   "source": [
    "### Scale\n",
    "Next we normalize the data. This has benefits for almost every model and will be used throughout training. \n",
    "<br>\n",
    "<br>\n",
    "<br>\n",
    "Main benefits include:\n",
    "* Normalize coeficients of the model to allow for comparing feature importance\n",
    "* Equalize influence of features on the models, applies for only some algorithms"
   ]
  },
  {
   "cell_type": "code",
   "execution_count": 8,
   "metadata": {
    "scrolled": true
   },
   "outputs": [
    {
     "data": {
      "text/html": [
       "<div>\n",
       "<style scoped>\n",
       "    .dataframe tbody tr th:only-of-type {\n",
       "        vertical-align: middle;\n",
       "    }\n",
       "\n",
       "    .dataframe tbody tr th {\n",
       "        vertical-align: top;\n",
       "    }\n",
       "\n",
       "    .dataframe thead th {\n",
       "        text-align: right;\n",
       "    }\n",
       "</style>\n",
       "<table border=\"1\" class=\"dataframe\">\n",
       "  <thead>\n",
       "    <tr style=\"text-align: right;\">\n",
       "      <th></th>\n",
       "      <th>week</th>\n",
       "      <th>pyds_home</th>\n",
       "      <th>ryds_home</th>\n",
       "      <th>totfd_home</th>\n",
       "      <th>trnovr_home</th>\n",
       "      <th>pen_home</th>\n",
       "      <th>pass_to_run_home</th>\n",
       "      <th>completion_perc_home</th>\n",
       "      <th>pass_len_home</th>\n",
       "      <th>interceptions_turnover_home</th>\n",
       "      <th>...</th>\n",
       "      <th>max_yards_per_catch_away</th>\n",
       "      <th>rec_yards_max_away</th>\n",
       "      <th>rec_spread_away</th>\n",
       "      <th>max_sacks_away</th>\n",
       "      <th>max_tackles_away</th>\n",
       "      <th>sacks_away</th>\n",
       "      <th>int_take_away</th>\n",
       "      <th>forced_fumbles_away</th>\n",
       "      <th>qb_pass_to_run_away</th>\n",
       "      <th>rb_run_to_catch_away</th>\n",
       "    </tr>\n",
       "  </thead>\n",
       "  <tbody>\n",
       "    <tr>\n",
       "      <th>0</th>\n",
       "      <td>1.584889</td>\n",
       "      <td>0.321408</td>\n",
       "      <td>-1.056513</td>\n",
       "      <td>-0.536109</td>\n",
       "      <td>0.993950</td>\n",
       "      <td>-0.774732</td>\n",
       "      <td>1.385225</td>\n",
       "      <td>-0.876136</td>\n",
       "      <td>0.770995</td>\n",
       "      <td>0.875782</td>\n",
       "      <td>...</td>\n",
       "      <td>-0.257196</td>\n",
       "      <td>-0.004693</td>\n",
       "      <td>-0.199523</td>\n",
       "      <td>0.781436</td>\n",
       "      <td>-0.108238</td>\n",
       "      <td>1.434086</td>\n",
       "      <td>0.271062</td>\n",
       "      <td>4.409165</td>\n",
       "      <td>0.396232</td>\n",
       "      <td>-0.344181</td>\n",
       "    </tr>\n",
       "    <tr>\n",
       "      <th>1</th>\n",
       "      <td>1.184875</td>\n",
       "      <td>0.369166</td>\n",
       "      <td>-0.114134</td>\n",
       "      <td>0.729396</td>\n",
       "      <td>-1.153548</td>\n",
       "      <td>-0.895129</td>\n",
       "      <td>-0.054300</td>\n",
       "      <td>0.816369</td>\n",
       "      <td>-0.005473</td>\n",
       "      <td>-1.354682</td>\n",
       "      <td>...</td>\n",
       "      <td>1.653283</td>\n",
       "      <td>0.587186</td>\n",
       "      <td>1.607833</td>\n",
       "      <td>-1.466575</td>\n",
       "      <td>-0.670759</td>\n",
       "      <td>0.088256</td>\n",
       "      <td>-0.367434</td>\n",
       "      <td>-0.119870</td>\n",
       "      <td>1.015272</td>\n",
       "      <td>-1.418723</td>\n",
       "    </tr>\n",
       "    <tr>\n",
       "      <th>2</th>\n",
       "      <td>-1.215213</td>\n",
       "      <td>-0.340618</td>\n",
       "      <td>0.693619</td>\n",
       "      <td>0.894462</td>\n",
       "      <td>-0.233191</td>\n",
       "      <td>-1.196121</td>\n",
       "      <td>-0.671239</td>\n",
       "      <td>-0.392563</td>\n",
       "      <td>0.182762</td>\n",
       "      <td>-0.543604</td>\n",
       "      <td>...</td>\n",
       "      <td>1.810571</td>\n",
       "      <td>2.400049</td>\n",
       "      <td>2.512929</td>\n",
       "      <td>-0.623571</td>\n",
       "      <td>0.243338</td>\n",
       "      <td>-0.523485</td>\n",
       "      <td>-0.793099</td>\n",
       "      <td>-0.371483</td>\n",
       "      <td>0.602579</td>\n",
       "      <td>-1.418723</td>\n",
       "    </tr>\n",
       "    <tr>\n",
       "      <th>3</th>\n",
       "      <td>0.184838</td>\n",
       "      <td>-0.699627</td>\n",
       "      <td>2.094948</td>\n",
       "      <td>0.206688</td>\n",
       "      <td>-1.306940</td>\n",
       "      <td>0.369036</td>\n",
       "      <td>-1.905117</td>\n",
       "      <td>1.058155</td>\n",
       "      <td>0.841582</td>\n",
       "      <td>-1.354682</td>\n",
       "      <td>...</td>\n",
       "      <td>0.084235</td>\n",
       "      <td>-1.322462</td>\n",
       "      <td>-1.091852</td>\n",
       "      <td>0.500435</td>\n",
       "      <td>2.493423</td>\n",
       "      <td>1.678782</td>\n",
       "      <td>0.483894</td>\n",
       "      <td>-0.623096</td>\n",
       "      <td>0.396232</td>\n",
       "      <td>-0.037169</td>\n",
       "    </tr>\n",
       "    <tr>\n",
       "      <th>4</th>\n",
       "      <td>-0.615191</td>\n",
       "      <td>0.184721</td>\n",
       "      <td>0.932273</td>\n",
       "      <td>0.729396</td>\n",
       "      <td>-1.153548</td>\n",
       "      <td>0.308838</td>\n",
       "      <td>-0.876885</td>\n",
       "      <td>0.574582</td>\n",
       "      <td>-0.146648</td>\n",
       "      <td>-0.340835</td>\n",
       "      <td>...</td>\n",
       "      <td>-0.460520</td>\n",
       "      <td>-0.369499</td>\n",
       "      <td>-0.579720</td>\n",
       "      <td>1.062438</td>\n",
       "      <td>0.313653</td>\n",
       "      <td>1.189389</td>\n",
       "      <td>0.696726</td>\n",
       "      <td>-1.126322</td>\n",
       "      <td>-0.222808</td>\n",
       "      <td>0.116337</td>\n",
       "    </tr>\n",
       "  </tbody>\n",
       "</table>\n",
       "<p>5 rows × 47 columns</p>\n",
       "</div>"
      ],
      "text/plain": [
       "       week  pyds_home  ryds_home  totfd_home  trnovr_home  pen_home  \\\n",
       "0  1.584889   0.321408  -1.056513   -0.536109     0.993950 -0.774732   \n",
       "1  1.184875   0.369166  -0.114134    0.729396    -1.153548 -0.895129   \n",
       "2 -1.215213  -0.340618   0.693619    0.894462    -0.233191 -1.196121   \n",
       "3  0.184838  -0.699627   2.094948    0.206688    -1.306940  0.369036   \n",
       "4 -0.615191   0.184721   0.932273    0.729396    -1.153548  0.308838   \n",
       "\n",
       "   pass_to_run_home  completion_perc_home  pass_len_home  \\\n",
       "0          1.385225             -0.876136       0.770995   \n",
       "1         -0.054300              0.816369      -0.005473   \n",
       "2         -0.671239             -0.392563       0.182762   \n",
       "3         -1.905117              1.058155       0.841582   \n",
       "4         -0.876885              0.574582      -0.146648   \n",
       "\n",
       "   interceptions_turnover_home          ...           \\\n",
       "0                     0.875782          ...            \n",
       "1                    -1.354682          ...            \n",
       "2                    -0.543604          ...            \n",
       "3                    -1.354682          ...            \n",
       "4                    -0.340835          ...            \n",
       "\n",
       "   max_yards_per_catch_away  rec_yards_max_away  rec_spread_away  \\\n",
       "0                 -0.257196           -0.004693        -0.199523   \n",
       "1                  1.653283            0.587186         1.607833   \n",
       "2                  1.810571            2.400049         2.512929   \n",
       "3                  0.084235           -1.322462        -1.091852   \n",
       "4                 -0.460520           -0.369499        -0.579720   \n",
       "\n",
       "   max_sacks_away  max_tackles_away  sacks_away  int_take_away  \\\n",
       "0        0.781436         -0.108238    1.434086       0.271062   \n",
       "1       -1.466575         -0.670759    0.088256      -0.367434   \n",
       "2       -0.623571          0.243338   -0.523485      -0.793099   \n",
       "3        0.500435          2.493423    1.678782       0.483894   \n",
       "4        1.062438          0.313653    1.189389       0.696726   \n",
       "\n",
       "   forced_fumbles_away  qb_pass_to_run_away  rb_run_to_catch_away  \n",
       "0             4.409165             0.396232             -0.344181  \n",
       "1            -0.119870             1.015272             -1.418723  \n",
       "2            -0.371483             0.602579             -1.418723  \n",
       "3            -0.623096             0.396232             -0.037169  \n",
       "4            -1.126322            -0.222808              0.116337  \n",
       "\n",
       "[5 rows x 47 columns]"
      ]
     },
     "execution_count": 8,
     "metadata": {},
     "output_type": "execute_result"
    }
   ],
   "source": [
    "from sklearn.preprocessing import StandardScaler\n",
    "\n",
    "scaler = StandardScaler()\n",
    "scaler.fit(X)\n",
    "X_scale = pd.DataFrame(scaler.transform(X), columns=X.columns)\n",
    "X_scale.head()"
   ]
  },
  {
   "cell_type": "markdown",
   "metadata": {},
   "source": [
    "## Linear Models\n",
    "\n",
    "We begin by tuning a linear model on the data. We will train linear regression algorithms to estimate the difference in the points scored of the home vs away teams. When predicting new outcomes we will take the sign of the predicted and actual score difference to convert it into a classification algorithm. We will used Ridge regression to allow for regularization and tune with cross validation to find the optimal constraint value.\n",
    "<br>\n",
    "<br>\n",
    "Below we create a custom scorer and then grid search on alpha find an optimal linear model for this feature space."
   ]
  },
  {
   "cell_type": "code",
   "execution_count": 9,
   "metadata": {},
   "outputs": [],
   "source": [
    "from sklearn.metrics import make_scorer\n",
    "from sklearn.metrics import accuracy_score\n",
    "\n",
    "def linear_regression_classifier(y_true, y_pred):\n",
    "    return accuracy_score(np.sign(y_true), np.sign(y_pred))\n",
    "\n",
    "lin_scorer = make_scorer(linear_regression_classifier, greater_is_better=True)"
   ]
  },
  {
   "cell_type": "code",
   "execution_count": 10,
   "metadata": {},
   "outputs": [
    {
     "data": {
      "text/plain": [
       "GridSearchCV(cv=5, error_score='raise',\n",
       "       estimator=Ridge(alpha=1.0, copy_X=True, fit_intercept=True, max_iter=None,\n",
       "   normalize=False, random_state=None, solver='auto', tol=0.001),\n",
       "       fit_params=None, iid=True, n_jobs=1,\n",
       "       param_grid={'alpha': array([0.     , 0.10204, 0.20408, 0.30612, 0.40816, 0.5102 , 0.61224,\n",
       "       0.71429, 0.81633, 0.91837, 1.02041, 1.12245, 1.22449, 1.32653,\n",
       "       1.42857, 1.53061, 1.63265, 1.73469, 1.83673, 1.93878, 2.04082,\n",
       "       2.14286, 2.2449 , 2.34694, 2.44898, 2.55102, 2.65306, 2.7551 ,...63, 4.18367,\n",
       "       4.28571, 4.38776, 4.4898 , 4.59184, 4.69388, 4.79592, 4.89796,\n",
       "       5.     ])},\n",
       "       pre_dispatch='2*n_jobs', refit=True, return_train_score='warn',\n",
       "       scoring=make_scorer(linear_regression_classifier), verbose=0)"
      ]
     },
     "execution_count": 10,
     "metadata": {},
     "output_type": "execute_result"
    }
   ],
   "source": [
    "from sklearn.model_selection import GridSearchCV\n",
    "from sklearn.linear_model import Ridge\n",
    "\n",
    "parameters = {'alpha' : np.linspace(0,5,50)}\n",
    "\n",
    "clf = GridSearchCV(Ridge(), parameters, cv=5, scoring=lin_scorer)\n",
    "clf.fit(X_scale,y_reg)"
   ]
  },
  {
   "cell_type": "code",
   "execution_count": 11,
   "metadata": {},
   "outputs": [
    {
     "data": {
      "text/plain": [
       "{'alpha': 0.10204081632653061}"
      ]
     },
     "execution_count": 11,
     "metadata": {},
     "output_type": "execute_result"
    }
   ],
   "source": [
    "clf.best_params_"
   ]
  },
  {
   "cell_type": "code",
   "execution_count": 12,
   "metadata": {
    "scrolled": true
   },
   "outputs": [
    {
     "data": {
      "text/plain": [
       "0.6887640449438203"
      ]
     },
     "execution_count": 12,
     "metadata": {},
     "output_type": "execute_result"
    }
   ],
   "source": [
    "clf.best_score_"
   ]
  },
  {
   "cell_type": "markdown",
   "metadata": {},
   "source": [
    "#### Polynomial Features\n",
    "\n",
    "Next we added interaction features to the data and retrained the model. By adding extra interraction we may be able to explain more complex patterns in the data. This would improve perfromance if the model was underfitting, however as we see the performance of the model actually decreases upon adding the new features meaning we are overfitting our model to the data (even though we are using a Ridge regression constraint!)"
   ]
  },
  {
   "cell_type": "code",
   "execution_count": 13,
   "metadata": {},
   "outputs": [],
   "source": [
    "from sklearn.preprocessing import PolynomialFeatures\n",
    "\n",
    "poly = PolynomialFeatures(degree=2, interaction_only=True)\n",
    "X_scale_2_degree = poly.fit_transform(X_scale)"
   ]
  },
  {
   "cell_type": "code",
   "execution_count": 14,
   "metadata": {
    "scrolled": true
   },
   "outputs": [
    {
     "name": "stdout",
     "output_type": "stream",
     "text": [
      "Wall time: 55.5 s\n"
     ]
    },
    {
     "data": {
      "text/plain": [
       "GridSearchCV(cv=5, error_score='raise',\n",
       "       estimator=Ridge(alpha=1.0, copy_X=True, fit_intercept=True, max_iter=None,\n",
       "   normalize=False, random_state=None, solver='auto', tol=0.001),\n",
       "       fit_params=None, iid=True, n_jobs=1,\n",
       "       param_grid={'alpha': array([0.     , 0.10204, 0.20408, 0.30612, 0.40816, 0.5102 , 0.61224,\n",
       "       0.71429, 0.81633, 0.91837, 1.02041, 1.12245, 1.22449, 1.32653,\n",
       "       1.42857, 1.53061, 1.63265, 1.73469, 1.83673, 1.93878, 2.04082,\n",
       "       2.14286, 2.2449 , 2.34694, 2.44898, 2.55102, 2.65306, 2.7551 ,...63, 4.18367,\n",
       "       4.28571, 4.38776, 4.4898 , 4.59184, 4.69388, 4.79592, 4.89796,\n",
       "       5.     ])},\n",
       "       pre_dispatch='2*n_jobs', refit=True, return_train_score='warn',\n",
       "       scoring=make_scorer(linear_regression_classifier), verbose=0)"
      ]
     },
     "execution_count": 14,
     "metadata": {},
     "output_type": "execute_result"
    }
   ],
   "source": [
    "%%time\n",
    "clf.fit(X_scale_2_degree,y_reg)"
   ]
  },
  {
   "cell_type": "code",
   "execution_count": 15,
   "metadata": {},
   "outputs": [
    {
     "data": {
      "text/plain": [
       "{'alpha': 1.836734693877551}"
      ]
     },
     "execution_count": 15,
     "metadata": {},
     "output_type": "execute_result"
    }
   ],
   "source": [
    "clf.best_params_"
   ]
  },
  {
   "cell_type": "code",
   "execution_count": 16,
   "metadata": {},
   "outputs": [
    {
     "data": {
      "text/plain": [
       "0.5837078651685393"
      ]
     },
     "execution_count": 16,
     "metadata": {},
     "output_type": "execute_result"
    }
   ],
   "source": [
    "clf.best_score_"
   ]
  },
  {
   "cell_type": "markdown",
   "metadata": {},
   "source": [
    "#### Feature Selection\n",
    "\n",
    "Understanding that our model was overfitting the data we then begin retraining the model selecting a subset of the most important features. We train our optimal Ridge Regression model (so far) and select the largest coefficients to include in the new model. The size of the absolute value of the coefficients are an indicator of importance of the feature. By selecting a subset we increase our perfromance by 1%!"
   ]
  },
  {
   "cell_type": "code",
   "execution_count": 17,
   "metadata": {},
   "outputs": [
    {
     "data": {
      "text/plain": [
       "Ridge(alpha=0.1, copy_X=True, fit_intercept=True, max_iter=None,\n",
       "   normalize=False, random_state=None, solver='auto', tol=0.001)"
      ]
     },
     "execution_count": 17,
     "metadata": {},
     "output_type": "execute_result"
    }
   ],
   "source": [
    "r = Ridge(alpha=.1)\n",
    "r.fit(X_scale,y_reg)"
   ]
  },
  {
   "cell_type": "code",
   "execution_count": 57,
   "metadata": {},
   "outputs": [],
   "source": [
    "coefs = pd.DataFrame(r.coef_, index=X_scale.columns)\n",
    "coefs.columns = ['coef']\n",
    "coefs['coef'] = np.abs(coefs['coef'])"
   ]
  },
  {
   "cell_type": "code",
   "execution_count": 19,
   "metadata": {},
   "outputs": [
    {
     "data": {
      "text/plain": [
       "<BarContainer object of 10 artists>"
      ]
     },
     "execution_count": 19,
     "metadata": {},
     "output_type": "execute_result"
    },
    {
     "data": {
      "image/png": "[encoded data removed]",
      "text/plain": [
       "<Figure size 1584x504 with 1 Axes>"
      ]
     },
     "metadata": {},
     "output_type": "display_data"
    }
   ],
   "source": [
    "top = coefs.nlargest(n=10, columns='coef')\n",
    "\n",
    "fig_size = plt.rcParams[\"figure.figsize\"]\n",
    "fig_size[0] = 22\n",
    "fig_size[1] = 7\n",
    "\n",
    "plt.bar(top.index, top['coef'])"
   ]
  },
  {
   "cell_type": "code",
   "execution_count": 20,
   "metadata": {
    "scrolled": true
   },
   "outputs": [
    {
     "data": {
      "text/plain": [
       "GridSearchCV(cv=5, error_score='raise',\n",
       "       estimator=Ridge(alpha=1.0, copy_X=True, fit_intercept=True, max_iter=None,\n",
       "   normalize=False, random_state=None, solver='auto', tol=0.001),\n",
       "       fit_params=None, iid=True, n_jobs=1,\n",
       "       param_grid={'alpha': array([0.     , 0.10204, 0.20408, 0.30612, 0.40816, 0.5102 , 0.61224,\n",
       "       0.71429, 0.81633, 0.91837, 1.02041, 1.12245, 1.22449, 1.32653,\n",
       "       1.42857, 1.53061, 1.63265, 1.73469, 1.83673, 1.93878, 2.04082,\n",
       "       2.14286, 2.2449 , 2.34694, 2.44898, 2.55102, 2.65306, 2.7551 ,...63, 4.18367,\n",
       "       4.28571, 4.38776, 4.4898 , 4.59184, 4.69388, 4.79592, 4.89796,\n",
       "       5.     ])},\n",
       "       pre_dispatch='2*n_jobs', refit=True, return_train_score='warn',\n",
       "       scoring=make_scorer(linear_regression_classifier), verbose=0)"
      ]
     },
     "execution_count": 20,
     "metadata": {},
     "output_type": "execute_result"
    }
   ],
   "source": [
    "clf.fit(X_scale[top.index],y_reg)"
   ]
  },
  {
   "cell_type": "code",
   "execution_count": 21,
   "metadata": {},
   "outputs": [
    {
     "data": {
      "text/plain": [
       "{'alpha': 0.0}"
      ]
     },
     "execution_count": 21,
     "metadata": {},
     "output_type": "execute_result"
    }
   ],
   "source": [
    "clf.best_params_"
   ]
  },
  {
   "cell_type": "code",
   "execution_count": 22,
   "metadata": {},
   "outputs": [
    {
     "data": {
      "text/plain": [
       "0.6921348314606741"
      ]
     },
     "execution_count": 22,
     "metadata": {},
     "output_type": "execute_result"
    }
   ],
   "source": [
    "clf.best_score_"
   ]
  },
  {
   "cell_type": "markdown",
   "metadata": {},
   "source": [
    "Here we try using feature interaction on the limited features to see if performance increases, however again the model begins to overfit."
   ]
  },
  {
   "cell_type": "code",
   "execution_count": 23,
   "metadata": {},
   "outputs": [
    {
     "data": {
      "text/plain": [
       "GridSearchCV(cv=5, error_score='raise',\n",
       "       estimator=Ridge(alpha=1.0, copy_X=True, fit_intercept=True, max_iter=None,\n",
       "   normalize=False, random_state=None, solver='auto', tol=0.001),\n",
       "       fit_params=None, iid=True, n_jobs=1,\n",
       "       param_grid={'alpha': array([0.     , 0.10204, 0.20408, 0.30612, 0.40816, 0.5102 , 0.61224,\n",
       "       0.71429, 0.81633, 0.91837, 1.02041, 1.12245, 1.22449, 1.32653,\n",
       "       1.42857, 1.53061, 1.63265, 1.73469, 1.83673, 1.93878, 2.04082,\n",
       "       2.14286, 2.2449 , 2.34694, 2.44898, 2.55102, 2.65306, 2.7551 ,...63, 4.18367,\n",
       "       4.28571, 4.38776, 4.4898 , 4.59184, 4.69388, 4.79592, 4.89796,\n",
       "       5.     ])},\n",
       "       pre_dispatch='2*n_jobs', refit=True, return_train_score='warn',\n",
       "       scoring=make_scorer(linear_regression_classifier), verbose=0)"
      ]
     },
     "execution_count": 23,
     "metadata": {},
     "output_type": "execute_result"
    }
   ],
   "source": [
    "clf.fit(poly.fit_transform(X_scale[top.index]),y_reg)"
   ]
  },
  {
   "cell_type": "code",
   "execution_count": 24,
   "metadata": {},
   "outputs": [
    {
     "data": {
      "text/plain": [
       "{'alpha': 3.4693877551020407}"
      ]
     },
     "execution_count": 24,
     "metadata": {},
     "output_type": "execute_result"
    }
   ],
   "source": [
    "clf.best_params_"
   ]
  },
  {
   "cell_type": "code",
   "execution_count": 25,
   "metadata": {
    "scrolled": true
   },
   "outputs": [
    {
     "data": {
      "text/plain": [
       "0.6803370786516854"
      ]
     },
     "execution_count": 25,
     "metadata": {},
     "output_type": "execute_result"
    }
   ],
   "source": [
    "clf.best_score_"
   ]
  },
  {
   "cell_type": "markdown",
   "metadata": {},
   "source": [
    "#### Validating assumptions\n",
    "The Linear Regression model is based on the assumption that given a state of the features (X) the predicted variable (Y) is normally distributed. Here we test this assumption by scattering our data vs the quantile values of a normal distribution. We see that our model is actually slightly assymetrical, overpredicting the amount of points scored by the home team and underpredicting the amount scored by the away team. Because of this if we find other models which perform at the same level we may want to consider dropping this model."
   ]
  },
  {
   "cell_type": "code",
   "execution_count": 30,
   "metadata": {
    "scrolled": true
   },
   "outputs": [
    {
     "data": {
      "image/png": "[encoded data removed]",
      "text/plain": [
       "<Figure size 1584x504 with 1 Axes>"
      ]
     },
     "metadata": {},
     "output_type": "display_data"
    }
   ],
   "source": [
    "import pylab\n",
    "stats.probplot(r_f.predict(X_scale[top.index]) - y_reg, dist=\"norm\", plot=pylab)\n",
    "pylab.show()"
   ]
  },
  {
   "cell_type": "code",
   "execution_count": 31,
   "metadata": {
    "scrolled": true
   },
   "outputs": [
    {
     "data": {
      "text/plain": [
       "<matplotlib.axes._subplots.AxesSubplot at 0xcce5c50>"
      ]
     },
     "execution_count": 31,
     "metadata": {},
     "output_type": "execute_result"
    },
    {
     "data": {
      "image/png": "[encoded data removed]",
      "text/plain": [
       "<Figure size 1584x504 with 1 Axes>"
      ]
     },
     "metadata": {},
     "output_type": "display_data"
    }
   ],
   "source": [
    "sns.kdeplot(r_f.predict(X_scale[top.index]) - y_reg)"
   ]
  },
  {
   "cell_type": "markdown",
   "metadata": {},
   "source": [
    "## Logistic Regression\n",
    "\n",
    "Next we train and test a Logistic Regression model in a similar pattern as was done for the Linear Regression model. We tune a regularization constant as well as search for an optimal collection of features.\n",
    "\n",
    "Our data in this case follows the assumptions of the Logistic Model better than the Linear Model. We also see an accuracy performance improvement making it the superior model at this stage in our analysis."
   ]
  },
  {
   "cell_type": "code",
   "execution_count": 37,
   "metadata": {},
   "outputs": [
    {
     "data": {
      "text/plain": [
       "GridSearchCV(cv=5, error_score='raise',\n",
       "       estimator=LogisticRegression(C=1.0, class_weight=None, dual=False, fit_intercept=True,\n",
       "          intercept_scaling=1, max_iter=100, multi_class='ovr', n_jobs=1,\n",
       "          penalty='l2', random_state=None, solver='liblinear', tol=0.0001,\n",
       "          verbose=0, warm_start=False),\n",
       "       fit_params=None, iid=True, n_jobs=1,\n",
       "       param_grid={'C': array([0.01   , 0.11184, 0.21367, 0.31551, 0.41735, 0.51918, 0.62102,\n",
       "       0.72286, 0.82469, 0.92653, 1.02837, 1.1302 , 1.23204, 1.33388,\n",
       "       1.43571, 1.53755, 1.63939, 1.74122, 1.84306, 1.9449 , 2.04673,\n",
       "       2.14857, 2.25041, 2.35224, 2.45408, 2.55592, 2.65776, 2.75959,\n",
       "   ...47, 4.18531,\n",
       "       4.28714, 4.38898, 4.49082, 4.59265, 4.69449, 4.79633, 4.89816,\n",
       "       5.     ])},\n",
       "       pre_dispatch='2*n_jobs', refit=True, return_train_score='warn',\n",
       "       scoring=None, verbose=0)"
      ]
     },
     "execution_count": 37,
     "metadata": {},
     "output_type": "execute_result"
    }
   ],
   "source": [
    "from sklearn.linear_model import LogisticRegression\n",
    "\n",
    "parameters = {'C' : np.linspace(0.01,5,50)}\n",
    "log_clf = GridSearchCV(LogisticRegression(), parameters, cv=5)\n",
    "log_clf.fit(X_scale, y_class)"
   ]
  },
  {
   "cell_type": "code",
   "execution_count": 38,
   "metadata": {},
   "outputs": [
    {
     "data": {
      "text/plain": [
       "{'C': 0.01}"
      ]
     },
     "execution_count": 38,
     "metadata": {},
     "output_type": "execute_result"
    }
   ],
   "source": [
    "log_clf.best_params_"
   ]
  },
  {
   "cell_type": "code",
   "execution_count": 39,
   "metadata": {},
   "outputs": [
    {
     "data": {
      "text/plain": [
       "0.6898876404494382"
      ]
     },
     "execution_count": 39,
     "metadata": {},
     "output_type": "execute_result"
    }
   ],
   "source": [
    "log_clf.best_score_"
   ]
  },
  {
   "cell_type": "markdown",
   "metadata": {},
   "source": [
    "Again we see that increasing the feature space causes overfitting and overall poorer model performance."
   ]
  },
  {
   "cell_type": "code",
   "execution_count": 40,
   "metadata": {
    "scrolled": true
   },
   "outputs": [
    {
     "data": {
      "text/plain": [
       "GridSearchCV(cv=5, error_score='raise',\n",
       "       estimator=LogisticRegression(C=1.0, class_weight=None, dual=False, fit_intercept=True,\n",
       "          intercept_scaling=1, max_iter=100, multi_class='ovr', n_jobs=1,\n",
       "          penalty='l2', random_state=None, solver='liblinear', tol=0.0001,\n",
       "          verbose=0, warm_start=False),\n",
       "       fit_params=None, iid=True, n_jobs=1,\n",
       "       param_grid={'C': array([0.01   , 0.11184, 0.21367, 0.31551, 0.41735, 0.51918, 0.62102,\n",
       "       0.72286, 0.82469, 0.92653, 1.02837, 1.1302 , 1.23204, 1.33388,\n",
       "       1.43571, 1.53755, 1.63939, 1.74122, 1.84306, 1.9449 , 2.04673,\n",
       "       2.14857, 2.25041, 2.35224, 2.45408, 2.55592, 2.65776, 2.75959,\n",
       "   ...47, 4.18531,\n",
       "       4.28714, 4.38898, 4.49082, 4.59265, 4.69449, 4.79633, 4.89816,\n",
       "       5.     ])},\n",
       "       pre_dispatch='2*n_jobs', refit=True, return_train_score='warn',\n",
       "       scoring=None, verbose=0)"
      ]
     },
     "execution_count": 40,
     "metadata": {},
     "output_type": "execute_result"
    }
   ],
   "source": [
    "log_clf.fit(X_scale_2_degree, y_class)"
   ]
  },
  {
   "cell_type": "code",
   "execution_count": 41,
   "metadata": {},
   "outputs": [
    {
     "data": {
      "text/plain": [
       "{'C': 0.01}"
      ]
     },
     "execution_count": 41,
     "metadata": {},
     "output_type": "execute_result"
    }
   ],
   "source": [
    "log_clf.best_params_"
   ]
  },
  {
   "cell_type": "code",
   "execution_count": 42,
   "metadata": {},
   "outputs": [
    {
     "data": {
      "text/plain": [
       "0.6297752808988764"
      ]
     },
     "execution_count": 42,
     "metadata": {},
     "output_type": "execute_result"
    }
   ],
   "source": [
    "log_clf.best_score_"
   ]
  },
  {
   "cell_type": "markdown",
   "metadata": {},
   "source": [
    "Next trim down the feature space to the most influential variables and obtain a performance of 70% accuracy upon cross validation"
   ]
  },
  {
   "cell_type": "code",
   "execution_count": 135,
   "metadata": {},
   "outputs": [
    {
     "data": {
      "text/plain": [
       "LogisticRegression(C=0.01, class_weight=None, dual=False, fit_intercept=True,\n",
       "          intercept_scaling=1, max_iter=100, multi_class='ovr', n_jobs=1,\n",
       "          penalty='l2', random_state=None, solver='liblinear', tol=0.0001,\n",
       "          verbose=0, warm_start=False)"
      ]
     },
     "execution_count": 135,
     "metadata": {},
     "output_type": "execute_result"
    }
   ],
   "source": [
    "l = LogisticRegression(C=.01)\n",
    "l.fit(X_scale, y_class)"
   ]
  },
  {
   "cell_type": "code",
   "execution_count": 136,
   "metadata": {},
   "outputs": [],
   "source": [
    "coefs = pd.DataFrame(l.coef_[0], index=X_scale.columns)\n",
    "coefs.columns = ['coef']\n",
    "coefs['coef'] = np.abs(coefs['coef'])\n",
    "top = coefs.nlargest(n=20, columns='coef')"
   ]
  },
  {
   "cell_type": "code",
   "execution_count": 137,
   "metadata": {},
   "outputs": [
    {
     "data": {
      "text/plain": [
       "GridSearchCV(cv=5, error_score='raise',\n",
       "       estimator=LogisticRegression(C=1.0, class_weight=None, dual=False, fit_intercept=True,\n",
       "          intercept_scaling=1, max_iter=100, multi_class='ovr', n_jobs=1,\n",
       "          penalty='l2', random_state=None, solver='liblinear', tol=0.0001,\n",
       "          verbose=0, warm_start=False),\n",
       "       fit_params=None, iid=True, n_jobs=1,\n",
       "       param_grid={'C': array([0.01   , 0.11184, 0.21367, 0.31551, 0.41735, 0.51918, 0.62102,\n",
       "       0.72286, 0.82469, 0.92653, 1.02837, 1.1302 , 1.23204, 1.33388,\n",
       "       1.43571, 1.53755, 1.63939, 1.74122, 1.84306, 1.9449 , 2.04673,\n",
       "       2.14857, 2.25041, 2.35224, 2.45408, 2.55592, 2.65776, 2.75959,\n",
       "   ...47, 4.18531,\n",
       "       4.28714, 4.38898, 4.49082, 4.59265, 4.69449, 4.79633, 4.89816,\n",
       "       5.     ])},\n",
       "       pre_dispatch='2*n_jobs', refit=True, return_train_score='warn',\n",
       "       scoring=None, verbose=0)"
      ]
     },
     "execution_count": 137,
     "metadata": {},
     "output_type": "execute_result"
    }
   ],
   "source": [
    "log_clf.fit(X_scale[top.index], y_class)"
   ]
  },
  {
   "cell_type": "code",
   "execution_count": 138,
   "metadata": {},
   "outputs": [
    {
     "data": {
      "text/plain": [
       "{'C': 0.01}"
      ]
     },
     "execution_count": 138,
     "metadata": {},
     "output_type": "execute_result"
    }
   ],
   "source": [
    "log_clf.best_params_"
   ]
  },
  {
   "cell_type": "code",
   "execution_count": 139,
   "metadata": {},
   "outputs": [
    {
     "data": {
      "text/plain": [
       "0.7"
      ]
     },
     "execution_count": 139,
     "metadata": {},
     "output_type": "execute_result"
    }
   ],
   "source": [
    "log_clf.best_score_"
   ]
  },
  {
   "cell_type": "markdown",
   "metadata": {},
   "source": [
    "## Support Vector Machines\n",
    "\n",
    "Here we investigate the SVM model and as with the previous models we tune hyperparameters using cross validation. This includes constraint constants as well as kernals. We increase the accuracy to 70.2% after limiting the features using weights from logistic regression."
   ]
  },
  {
   "cell_type": "code",
   "execution_count": 142,
   "metadata": {},
   "outputs": [
    {
     "data": {
      "text/plain": [
       "GridSearchCV(cv=5, error_score='raise',\n",
       "       estimator=SVC(C=1.0, cache_size=200, class_weight=None, coef0=0.0,\n",
       "  decision_function_shape='ovr', degree=3, gamma='auto', kernel='rbf',\n",
       "  max_iter=-1, probability=True, random_state=None, shrinking=True,\n",
       "  tol=0.001, verbose=False),\n",
       "       fit_params=None, iid=True, n_jobs=1,\n",
       "       param_grid={'C': array([0.01   , 0.56444, 1.11889, 1.67333, 2.22778, 2.78222, 3.33667,\n",
       "       3.89111, 4.44556, 5.     ]), 'kernel': ['linear', 'poly', 'rbf', 'sigmoid'], 'gamma': array([1.00000e-04, 5.56444e-02, 1.11189e-01, 1.66733e-01, 2.22278e-01,\n",
       "       2.77822e-01, 3.33367e-01, 3.88911e-01, 4.44456e-01, 5.00000e-01])},\n",
       "       pre_dispatch='2*n_jobs', refit=True, return_train_score='warn',\n",
       "       scoring=None, verbose=0)"
      ]
     },
     "execution_count": 142,
     "metadata": {},
     "output_type": "execute_result"
    }
   ],
   "source": [
    "from sklearn.svm import SVC\n",
    "\n",
    "parameters = {'C':np.linspace(0.01,5,10), \n",
    "              'kernel':['linear','poly','rbf','sigmoid'],\n",
    "              'gamma':np.linspace(.0001,.5,10)}\n",
    "\n",
    "svm_clf = GridSearchCV(SVC(probability=True), parameters, cv=5)\n",
    "svm_clf.fit(X_scale, y_class)"
   ]
  },
  {
   "cell_type": "code",
   "execution_count": 143,
   "metadata": {},
   "outputs": [
    {
     "data": {
      "text/plain": [
       "{'C': 3.8911111111111114, 'gamma': 0.0001, 'kernel': 'linear'}"
      ]
     },
     "execution_count": 143,
     "metadata": {},
     "output_type": "execute_result"
    }
   ],
   "source": [
    "svm_clf.best_params_"
   ]
  },
  {
   "cell_type": "code",
   "execution_count": 144,
   "metadata": {},
   "outputs": [
    {
     "data": {
      "text/plain": [
       "0.6898876404494382"
      ]
     },
     "execution_count": 144,
     "metadata": {},
     "output_type": "execute_result"
    }
   ],
   "source": [
    "svm_clf.best_score_"
   ]
  },
  {
   "cell_type": "code",
   "execution_count": 146,
   "metadata": {},
   "outputs": [
    {
     "data": {
      "text/plain": [
       "GridSearchCV(cv=5, error_score='raise',\n",
       "       estimator=SVC(C=1.0, cache_size=200, class_weight=None, coef0=0.0,\n",
       "  decision_function_shape='ovr', degree=3, gamma='auto', kernel='rbf',\n",
       "  max_iter=-1, probability=True, random_state=None, shrinking=True,\n",
       "  tol=0.001, verbose=False),\n",
       "       fit_params=None, iid=True, n_jobs=1,\n",
       "       param_grid={'C': array([0.01   , 0.56444, 1.11889, 1.67333, 2.22778, 2.78222, 3.33667,\n",
       "       3.89111, 4.44556, 5.     ]), 'kernel': ['linear', 'poly', 'rbf', 'sigmoid'], 'gamma': array([1.00000e-04, 5.56444e-02, 1.11189e-01, 1.66733e-01, 2.22278e-01,\n",
       "       2.77822e-01, 3.33367e-01, 3.88911e-01, 4.44456e-01, 5.00000e-01])},\n",
       "       pre_dispatch='2*n_jobs', refit=True, return_train_score='warn',\n",
       "       scoring=None, verbose=0)"
      ]
     },
     "execution_count": 146,
     "metadata": {},
     "output_type": "execute_result"
    }
   ],
   "source": [
    "svm_clf.fit(X_scale[top.index], y_class)"
   ]
  },
  {
   "cell_type": "code",
   "execution_count": 147,
   "metadata": {},
   "outputs": [
    {
     "data": {
      "text/plain": [
       "{'C': 0.01, 'gamma': 0.5, 'kernel': 'sigmoid'}"
      ]
     },
     "execution_count": 147,
     "metadata": {},
     "output_type": "execute_result"
    }
   ],
   "source": [
    "svm_clf.best_params_"
   ]
  },
  {
   "cell_type": "code",
   "execution_count": 148,
   "metadata": {},
   "outputs": [
    {
     "data": {
      "text/plain": [
       "0.702808988764045"
      ]
     },
     "execution_count": 148,
     "metadata": {},
     "output_type": "execute_result"
    }
   ],
   "source": [
    "svm_clf.best_score_"
   ]
  },
  {
   "cell_type": "markdown",
   "metadata": {},
   "source": [
    "## Random Forest\n",
    "\n",
    "We attempt to fit a Random Forest Decision tree model to the data however the performance is significantly weaker than the previous models."
   ]
  },
  {
   "cell_type": "code",
   "execution_count": 159,
   "metadata": {},
   "outputs": [
    {
     "data": {
      "text/plain": [
       "GridSearchCV(cv=5, error_score='raise',\n",
       "       estimator=RandomForestClassifier(bootstrap=True, class_weight=None, criterion='gini',\n",
       "            max_depth=None, max_features='auto', max_leaf_nodes=None,\n",
       "            min_impurity_decrease=0.0, min_impurity_split=None,\n",
       "            min_samples_leaf=1, min_samples_split=2,\n",
       "            min_weight_fraction_leaf=0.0, n_estimators=1000, n_jobs=1,\n",
       "            oob_score=False, random_state=None, verbose=0,\n",
       "            warm_start=False),\n",
       "       fit_params=None, iid=True, n_jobs=1,\n",
       "       param_grid={'min_samples_split': [0.6, 0.7, 0.8, 0.9], 'max_depth': [3, 5, 7, 10], 'max_features': [0.3, 0.5, 0.7, 0.9]},\n",
       "       pre_dispatch='2*n_jobs', refit=True, return_train_score='warn',\n",
       "       scoring=None, verbose=0)"
      ]
     },
     "execution_count": 159,
     "metadata": {},
     "output_type": "execute_result"
    }
   ],
   "source": [
    "from sklearn.ensemble import RandomForestClassifier\n",
    "\n",
    "parameters = {'min_samples_split':[.6,.7,.8,.9], \n",
    "              'max_depth':[3,5,7,10],\n",
    "              'max_features':[.3,.5,.7,.9]}\n",
    "\n",
    "rf_clf = GridSearchCV(RandomForestClassifier(n_estimators=1000), parameters, cv=5)\n",
    "rf_clf.fit(X_scale, y_class)"
   ]
  },
  {
   "cell_type": "code",
   "execution_count": 160,
   "metadata": {},
   "outputs": [
    {
     "data": {
      "text/plain": [
       "{'max_depth': 7, 'max_features': 0.9, 'min_samples_split': 0.6}"
      ]
     },
     "execution_count": 160,
     "metadata": {},
     "output_type": "execute_result"
    }
   ],
   "source": [
    "rf_clf.best_params_"
   ]
  },
  {
   "cell_type": "code",
   "execution_count": 161,
   "metadata": {},
   "outputs": [
    {
     "data": {
      "text/plain": [
       "0.6303370786516854"
      ]
     },
     "execution_count": 161,
     "metadata": {},
     "output_type": "execute_result"
    }
   ],
   "source": [
    "rf_clf.best_score_"
   ]
  },
  {
   "cell_type": "code",
   "execution_count": 162,
   "metadata": {},
   "outputs": [
    {
     "data": {
      "text/plain": [
       "GridSearchCV(cv=5, error_score='raise',\n",
       "       estimator=RandomForestClassifier(bootstrap=True, class_weight=None, criterion='gini',\n",
       "            max_depth=None, max_features='auto', max_leaf_nodes=None,\n",
       "            min_impurity_decrease=0.0, min_impurity_split=None,\n",
       "            min_samples_leaf=1, min_samples_split=2,\n",
       "            min_weight_fraction_leaf=0.0, n_estimators=1000, n_jobs=1,\n",
       "            oob_score=False, random_state=None, verbose=0,\n",
       "            warm_start=False),\n",
       "       fit_params=None, iid=True, n_jobs=1,\n",
       "       param_grid={'min_samples_split': [0.6, 0.7, 0.8, 0.9], 'max_depth': [3, 5, 7, 10], 'max_features': [0.3, 0.5, 0.7, 0.9]},\n",
       "       pre_dispatch='2*n_jobs', refit=True, return_train_score='warn',\n",
       "       scoring=None, verbose=0)"
      ]
     },
     "execution_count": 162,
     "metadata": {},
     "output_type": "execute_result"
    }
   ],
   "source": [
    "rf_clf.fit(X_scale[top.index],y_class)"
   ]
  },
  {
   "cell_type": "code",
   "execution_count": 163,
   "metadata": {},
   "outputs": [
    {
     "data": {
      "text/plain": [
       "{'max_depth': 7, 'max_features': 0.9, 'min_samples_split': 0.6}"
      ]
     },
     "execution_count": 163,
     "metadata": {},
     "output_type": "execute_result"
    }
   ],
   "source": [
    "rf_clf.best_params_"
   ]
  },
  {
   "cell_type": "code",
   "execution_count": 164,
   "metadata": {},
   "outputs": [
    {
     "data": {
      "text/plain": [
       "0.6325842696629214"
      ]
     },
     "execution_count": 164,
     "metadata": {},
     "output_type": "execute_result"
    }
   ],
   "source": [
    "rf_clf.best_score_"
   ]
  },
  {
   "cell_type": "markdown",
   "metadata": {},
   "source": [
    "## Feature Engineering\n",
    "\n",
    "We select the top two models SVM and Logistic Regression and begin to experiment with some feature engineering to try and increase the performance of the models.\n",
    "\n",
    "Let's first take a look at the features used to optimize our models."
   ]
  },
  {
   "cell_type": "code",
   "execution_count": 165,
   "metadata": {
    "scrolled": true
   },
   "outputs": [
    {
     "data": {
      "text/plain": [
       "Index(['trnovr_home', 'pass_to_run_away', 'int_take_home', 'sacks_home',\n",
       "       'completion_perc_away', 'rush_touchdowns_home', 'pass_touchdowns_away',\n",
       "       'int_take_away', 'trnovr_away', 'pass_len_away', 'pass_touchdowns_home',\n",
       "       'sacks_away', 'rec_max_touchdowns_home', 'totfd_away',\n",
       "       'pass_to_run_home', 'running_back_avg_away', 'completion_perc_home',\n",
       "       'forced_fumbles_away', 'pen_home', 'rec_yards_max_away'],\n",
       "      dtype='object')"
      ]
     },
     "execution_count": 165,
     "metadata": {},
     "output_type": "execute_result"
    }
   ],
   "source": [
    "top.index"
   ]
  },
  {
   "cell_type": "markdown",
   "metadata": {},
   "source": [
    "Next we engineer some features based on our domain knowledge and features of importance"
   ]
  },
  {
   "cell_type": "code",
   "execution_count": 171,
   "metadata": {},
   "outputs": [],
   "source": [
    "X['sack_chance_home'] = X['sacks_home'] * X['pass_to_run_away']\n",
    "X['sack_chance_away'] = X['sacks_away'] * X['pass_to_run_home']\n",
    "\n",
    "X['int_chance_home'] = X['int_take_home'] * X['pass_to_run_away']\n",
    "X['int_chance_away'] = X['int_take_away'] * X['pass_to_run_home']\n",
    "\n",
    "X['pass_eff_home'] = X['completion_perc_home'] * X['pass_len_home']\n",
    "X['pass_eff_away'] = X['completion_perc_away'] * X['pass_len_away']\n",
    "\n",
    "X['turn_diff_home'] =  X['int_take_home'] + X['forced_fumbles_home'] - X['trnovr_home']\n",
    "X['turn_diff_away'] =  X['int_take_away'] + X['forced_fumbles_away'] - X['trnovr_away']\n",
    "\n",
    "X['touchdowns_home'] = X['pass_touchdowns_home'] + X['rush_touchdowns_home']\n",
    "X['touchdowns_away'] = X['pass_touchdowns_away'] + X['rush_touchdowns_away']"
   ]
  },
  {
   "cell_type": "markdown",
   "metadata": {},
   "source": [
    "After testing out some feature combinations we are able to get a very mild performance increase with 70.3% accuracy on an SVM model"
   ]
  },
  {
   "cell_type": "code",
   "execution_count": 201,
   "metadata": {},
   "outputs": [],
   "source": [
    "features = ['trnovr_home', 'pass_to_run_away', 'int_take_home', 'sacks_home',\n",
    "       'completion_perc_away', 'rush_touchdowns_home', 'pass_touchdowns_away',\n",
    "       'int_take_away', 'trnovr_away', 'pass_len_away', 'pass_touchdowns_home',\n",
    "       'sacks_away', 'rec_max_touchdowns_home', 'totfd_away',\n",
    "       'pass_to_run_home', 'running_back_avg_away', 'completion_perc_home',\n",
    "       'forced_fumbles_away', 'pen_home', 'rec_yards_max_away','int_chance_home','int_chance_away']"
   ]
  },
  {
   "cell_type": "code",
   "execution_count": 202,
   "metadata": {},
   "outputs": [
    {
     "data": {
      "text/html": [
       "<div>\n",
       "<style scoped>\n",
       "    .dataframe tbody tr th:only-of-type {\n",
       "        vertical-align: middle;\n",
       "    }\n",
       "\n",
       "    .dataframe tbody tr th {\n",
       "        vertical-align: top;\n",
       "    }\n",
       "\n",
       "    .dataframe thead th {\n",
       "        text-align: right;\n",
       "    }\n",
       "</style>\n",
       "<table border=\"1\" class=\"dataframe\">\n",
       "  <thead>\n",
       "    <tr style=\"text-align: right;\">\n",
       "      <th></th>\n",
       "      <th>trnovr_home</th>\n",
       "      <th>pass_to_run_away</th>\n",
       "      <th>int_take_home</th>\n",
       "      <th>sacks_home</th>\n",
       "      <th>completion_perc_away</th>\n",
       "      <th>rush_touchdowns_home</th>\n",
       "      <th>pass_touchdowns_away</th>\n",
       "      <th>int_take_away</th>\n",
       "      <th>trnovr_away</th>\n",
       "      <th>pass_len_away</th>\n",
       "      <th>...</th>\n",
       "      <th>rec_max_touchdowns_home</th>\n",
       "      <th>totfd_away</th>\n",
       "      <th>pass_to_run_home</th>\n",
       "      <th>running_back_avg_away</th>\n",
       "      <th>completion_perc_home</th>\n",
       "      <th>forced_fumbles_away</th>\n",
       "      <th>pen_home</th>\n",
       "      <th>rec_yards_max_away</th>\n",
       "      <th>int_chance_home</th>\n",
       "      <th>int_chance_away</th>\n",
       "    </tr>\n",
       "  </thead>\n",
       "  <tbody>\n",
       "    <tr>\n",
       "      <th>0</th>\n",
       "      <td>0.993950</td>\n",
       "      <td>-0.672931</td>\n",
       "      <td>-0.170134</td>\n",
       "      <td>-0.678896</td>\n",
       "      <td>0.345107</td>\n",
       "      <td>-0.748044</td>\n",
       "      <td>0.908561</td>\n",
       "      <td>0.271062</td>\n",
       "      <td>2.680581</td>\n",
       "      <td>0.274201</td>\n",
       "      <td>...</td>\n",
       "      <td>-0.557358</td>\n",
       "      <td>0.439059</td>\n",
       "      <td>1.385225</td>\n",
       "      <td>0.290028</td>\n",
       "      <td>-0.876136</td>\n",
       "      <td>4.409165</td>\n",
       "      <td>-0.774732</td>\n",
       "      <td>-0.004693</td>\n",
       "      <td>-0.328573</td>\n",
       "      <td>0.661428</td>\n",
       "    </tr>\n",
       "    <tr>\n",
       "      <th>1</th>\n",
       "      <td>-1.153548</td>\n",
       "      <td>0.567473</td>\n",
       "      <td>0.464747</td>\n",
       "      <td>-0.188609</td>\n",
       "      <td>0.589552</td>\n",
       "      <td>0.967830</td>\n",
       "      <td>1.174117</td>\n",
       "      <td>-0.367434</td>\n",
       "      <td>-1.010218</td>\n",
       "      <td>-0.100325</td>\n",
       "      <td>...</td>\n",
       "      <td>-0.557358</td>\n",
       "      <td>0.576666</td>\n",
       "      <td>-0.054300</td>\n",
       "      <td>0.908766</td>\n",
       "      <td>0.816369</td>\n",
       "      <td>-0.119870</td>\n",
       "      <td>-0.895129</td>\n",
       "      <td>0.587186</td>\n",
       "      <td>0.619319</td>\n",
       "      <td>-0.366254</td>\n",
       "    </tr>\n",
       "    <tr>\n",
       "      <th>2</th>\n",
       "      <td>-0.233191</td>\n",
       "      <td>0.567473</td>\n",
       "      <td>-0.170134</td>\n",
       "      <td>0.669393</td>\n",
       "      <td>1.322886</td>\n",
       "      <td>-0.533560</td>\n",
       "      <td>1.041339</td>\n",
       "      <td>-0.793099</td>\n",
       "      <td>-0.548868</td>\n",
       "      <td>0.625320</td>\n",
       "      <td>...</td>\n",
       "      <td>0.435401</td>\n",
       "      <td>1.732565</td>\n",
       "      <td>-0.671239</td>\n",
       "      <td>0.639059</td>\n",
       "      <td>-0.392563</td>\n",
       "      <td>-0.371483</td>\n",
       "      <td>-1.196121</td>\n",
       "      <td>2.400049</td>\n",
       "      <td>-0.023505</td>\n",
       "      <td>-0.898447</td>\n",
       "    </tr>\n",
       "    <tr>\n",
       "      <th>3</th>\n",
       "      <td>-1.306940</td>\n",
       "      <td>0.360739</td>\n",
       "      <td>-0.170134</td>\n",
       "      <td>0.179106</td>\n",
       "      <td>-0.388228</td>\n",
       "      <td>0.967830</td>\n",
       "      <td>-0.286443</td>\n",
       "      <td>0.483894</td>\n",
       "      <td>-0.395085</td>\n",
       "      <td>-0.252477</td>\n",
       "      <td>...</td>\n",
       "      <td>0.435401</td>\n",
       "      <td>-0.771883</td>\n",
       "      <td>-1.905117</td>\n",
       "      <td>-0.376305</td>\n",
       "      <td>1.058155</td>\n",
       "      <td>-0.623096</td>\n",
       "      <td>0.369036</td>\n",
       "      <td>-1.322462</td>\n",
       "      <td>-0.074349</td>\n",
       "      <td>-0.105663</td>\n",
       "    </tr>\n",
       "    <tr>\n",
       "      <th>4</th>\n",
       "      <td>-1.153548</td>\n",
       "      <td>-0.052729</td>\n",
       "      <td>0.041493</td>\n",
       "      <td>0.914537</td>\n",
       "      <td>1.322886</td>\n",
       "      <td>1.396798</td>\n",
       "      <td>2.103565</td>\n",
       "      <td>0.696726</td>\n",
       "      <td>-1.317785</td>\n",
       "      <td>0.028418</td>\n",
       "      <td>...</td>\n",
       "      <td>-0.557358</td>\n",
       "      <td>0.714273</td>\n",
       "      <td>-0.876885</td>\n",
       "      <td>-1.407535</td>\n",
       "      <td>0.574582</td>\n",
       "      <td>-1.126322</td>\n",
       "      <td>0.308838</td>\n",
       "      <td>-0.369499</td>\n",
       "      <td>0.027340</td>\n",
       "      <td>0.397167</td>\n",
       "    </tr>\n",
       "  </tbody>\n",
       "</table>\n",
       "<p>5 rows × 22 columns</p>\n",
       "</div>"
      ],
      "text/plain": [
       "   trnovr_home  pass_to_run_away  int_take_home  sacks_home  \\\n",
       "0     0.993950         -0.672931      -0.170134   -0.678896   \n",
       "1    -1.153548          0.567473       0.464747   -0.188609   \n",
       "2    -0.233191          0.567473      -0.170134    0.669393   \n",
       "3    -1.306940          0.360739      -0.170134    0.179106   \n",
       "4    -1.153548         -0.052729       0.041493    0.914537   \n",
       "\n",
       "   completion_perc_away  rush_touchdowns_home  pass_touchdowns_away  \\\n",
       "0              0.345107             -0.748044              0.908561   \n",
       "1              0.589552              0.967830              1.174117   \n",
       "2              1.322886             -0.533560              1.041339   \n",
       "3             -0.388228              0.967830             -0.286443   \n",
       "4              1.322886              1.396798              2.103565   \n",
       "\n",
       "   int_take_away  trnovr_away  pass_len_away       ...         \\\n",
       "0       0.271062     2.680581       0.274201       ...          \n",
       "1      -0.367434    -1.010218      -0.100325       ...          \n",
       "2      -0.793099    -0.548868       0.625320       ...          \n",
       "3       0.483894    -0.395085      -0.252477       ...          \n",
       "4       0.696726    -1.317785       0.028418       ...          \n",
       "\n",
       "   rec_max_touchdowns_home  totfd_away  pass_to_run_home  \\\n",
       "0                -0.557358    0.439059          1.385225   \n",
       "1                -0.557358    0.576666         -0.054300   \n",
       "2                 0.435401    1.732565         -0.671239   \n",
       "3                 0.435401   -0.771883         -1.905117   \n",
       "4                -0.557358    0.714273         -0.876885   \n",
       "\n",
       "   running_back_avg_away  completion_perc_home  forced_fumbles_away  pen_home  \\\n",
       "0               0.290028             -0.876136             4.409165 -0.774732   \n",
       "1               0.908766              0.816369            -0.119870 -0.895129   \n",
       "2               0.639059             -0.392563            -0.371483 -1.196121   \n",
       "3              -0.376305              1.058155            -0.623096  0.369036   \n",
       "4              -1.407535              0.574582            -1.126322  0.308838   \n",
       "\n",
       "   rec_yards_max_away  int_chance_home  int_chance_away  \n",
       "0           -0.004693        -0.328573         0.661428  \n",
       "1            0.587186         0.619319        -0.366254  \n",
       "2            2.400049        -0.023505        -0.898447  \n",
       "3           -1.322462        -0.074349        -0.105663  \n",
       "4           -0.369499         0.027340         0.397167  \n",
       "\n",
       "[5 rows x 22 columns]"
      ]
     },
     "execution_count": 202,
     "metadata": {},
     "output_type": "execute_result"
    }
   ],
   "source": [
    "X_features_scale = pd.DataFrame(scaler.fit_transform(X[features]), columns=features)\n",
    "X_features_scale.head()"
   ]
  },
  {
   "cell_type": "code",
   "execution_count": 203,
   "metadata": {},
   "outputs": [
    {
     "data": {
      "text/plain": [
       "GridSearchCV(cv=5, error_score='raise',\n",
       "       estimator=LogisticRegression(C=1.0, class_weight=None, dual=False, fit_intercept=True,\n",
       "          intercept_scaling=1, max_iter=100, multi_class='ovr', n_jobs=1,\n",
       "          penalty='l2', random_state=None, solver='liblinear', tol=0.0001,\n",
       "          verbose=0, warm_start=False),\n",
       "       fit_params=None, iid=True, n_jobs=1,\n",
       "       param_grid={'C': array([0.01   , 0.11184, 0.21367, 0.31551, 0.41735, 0.51918, 0.62102,\n",
       "       0.72286, 0.82469, 0.92653, 1.02837, 1.1302 , 1.23204, 1.33388,\n",
       "       1.43571, 1.53755, 1.63939, 1.74122, 1.84306, 1.9449 , 2.04673,\n",
       "       2.14857, 2.25041, 2.35224, 2.45408, 2.55592, 2.65776, 2.75959,\n",
       "   ...47, 4.18531,\n",
       "       4.28714, 4.38898, 4.49082, 4.59265, 4.69449, 4.79633, 4.89816,\n",
       "       5.     ])},\n",
       "       pre_dispatch='2*n_jobs', refit=True, return_train_score='warn',\n",
       "       scoring=None, verbose=0)"
      ]
     },
     "execution_count": 203,
     "metadata": {},
     "output_type": "execute_result"
    }
   ],
   "source": [
    "log_clf.fit(X_features_scale, y_class)"
   ]
  },
  {
   "cell_type": "code",
   "execution_count": 204,
   "metadata": {},
   "outputs": [
    {
     "data": {
      "text/plain": [
       "{'C': 4.287142857142857}"
      ]
     },
     "execution_count": 204,
     "metadata": {},
     "output_type": "execute_result"
    }
   ],
   "source": [
    "log_clf.best_params_"
   ]
  },
  {
   "cell_type": "code",
   "execution_count": 205,
   "metadata": {},
   "outputs": [
    {
     "data": {
      "text/plain": [
       "0.702808988764045"
      ]
     },
     "execution_count": 205,
     "metadata": {},
     "output_type": "execute_result"
    }
   ],
   "source": [
    "log_clf.best_score_"
   ]
  },
  {
   "cell_type": "code",
   "execution_count": 206,
   "metadata": {},
   "outputs": [
    {
     "data": {
      "text/plain": [
       "GridSearchCV(cv=5, error_score='raise',\n",
       "       estimator=SVC(C=1.0, cache_size=200, class_weight=None, coef0=0.0,\n",
       "  decision_function_shape='ovr', degree=3, gamma='auto', kernel='rbf',\n",
       "  max_iter=-1, probability=True, random_state=None, shrinking=True,\n",
       "  tol=0.001, verbose=False),\n",
       "       fit_params=None, iid=True, n_jobs=1,\n",
       "       param_grid={'C': array([0.01   , 0.56444, 1.11889, 1.67333, 2.22778, 2.78222, 3.33667,\n",
       "       3.89111, 4.44556, 5.     ]), 'kernel': ['linear', 'poly', 'rbf', 'sigmoid'], 'gamma': array([1.00000e-04, 5.56444e-02, 1.11189e-01, 1.66733e-01, 2.22278e-01,\n",
       "       2.77822e-01, 3.33367e-01, 3.88911e-01, 4.44456e-01, 5.00000e-01])},\n",
       "       pre_dispatch='2*n_jobs', refit=True, return_train_score='warn',\n",
       "       scoring=None, verbose=0)"
      ]
     },
     "execution_count": 206,
     "metadata": {},
     "output_type": "execute_result"
    }
   ],
   "source": [
    "svm_clf.fit(X_features_scale, y_class)"
   ]
  },
  {
   "cell_type": "code",
   "execution_count": 207,
   "metadata": {},
   "outputs": [
    {
     "data": {
      "text/plain": [
       "{'C': 5.0, 'gamma': 0.0001, 'kernel': 'linear'}"
      ]
     },
     "execution_count": 207,
     "metadata": {},
     "output_type": "execute_result"
    }
   ],
   "source": [
    "svm_clf.best_params_"
   ]
  },
  {
   "cell_type": "code",
   "execution_count": 208,
   "metadata": {},
   "outputs": [
    {
     "data": {
      "text/plain": [
       "0.7033707865168539"
      ]
     },
     "execution_count": 208,
     "metadata": {},
     "output_type": "execute_result"
    }
   ],
   "source": [
    "svm_clf.best_score_"
   ]
  },
  {
   "cell_type": "code",
   "execution_count": null,
   "metadata": {},
   "outputs": [],
   "source": []
  },
  {
   "cell_type": "code",
   "execution_count": null,
   "metadata": {},
   "outputs": [],
   "source": []
  },
  {
   "cell_type": "code",
   "execution_count": null,
   "metadata": {},
   "outputs": [],
   "source": []
  },
  {
   "cell_type": "code",
   "execution_count": null,
   "metadata": {},
   "outputs": [],
   "source": []
  },
  {
   "cell_type": "code",
   "execution_count": null,
   "metadata": {},
   "outputs": [],
   "source": []
  },
  {
   "cell_type": "code",
   "execution_count": null,
   "metadata": {},
   "outputs": [],
   "source": []
  },
  {
   "cell_type": "code",
   "execution_count": null,
   "metadata": {},
   "outputs": [],
   "source": []
  },
  {
   "cell_type": "code",
   "execution_count": null,
   "metadata": {},
   "outputs": [],
   "source": []
  },
  {
   "cell_type": "code",
   "execution_count": null,
   "metadata": {},
   "outputs": [],
   "source": []
  }
 ],
 "metadata": {
  "kernelspec": {
   "display_name": "Python 3",
   "language": "python",
   "name": "python3"
  },
  "language_info": {
   "codemirror_mode": {
    "name": "ipython",
    "version": 3
   },
   "file_extension": ".py",
   "mimetype": "text/x-python",
   "name": "python",
   "nbconvert_exporter": "python",
   "pygments_lexer": "ipython3",
   "version": "3.6.4"
  }
 },
 "nbformat": 4,
 "nbformat_minor": 2
}
