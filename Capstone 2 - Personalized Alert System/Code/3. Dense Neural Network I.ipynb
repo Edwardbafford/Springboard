{
 "cells": [
  {
   "cell_type": "markdown",
   "metadata": {},
   "source": [
    "## 3. Dense Neural Netowork I"
   ]
  },
  {
   "cell_type": "markdown",
   "metadata": {},
   "source": [
    "In this notebook we design the first Neural Network using a default dense layer design. We train the model over 300 epochs (it took 12 hours!) and get a maximum accuracy of over 98% and by the end the performance hovers around 92%. Almost 4% better than our benchmark algorithm. "
   ]
  },
  {
   "cell_type": "code",
   "execution_count": 56,
   "metadata": {},
   "outputs": [],
   "source": [
    "import pandas as pd\n",
    "import numpy as np\n",
    "from keras.models import Sequential\n",
    "from keras.layers import Dense\n",
    "import matplotlib.pyplot as plt\n",
    "\n",
    "plt.style.use('seaborn')\n",
    "\n",
    "# fix random seed for reproducibility\n",
    "np.random.seed(7)\n",
    "\n",
    "test_path = 'C:\\\\Users\\\\Louie\\\\Data\\\\Springboard_Cap2\\\\Test\\\\'\n",
    "train_path = 'C:\\\\Users\\\\Louie\\\\Data\\\\Springboard_Cap2\\\\Train\\\\'"
   ]
  },
  {
   "cell_type": "markdown",
   "metadata": {},
   "source": [
    "Here we build the model, very simple design for the first run through"
   ]
  },
  {
   "cell_type": "code",
   "execution_count": 52,
   "metadata": {},
   "outputs": [],
   "source": [
    "model = Sequential()\n",
    "model.add(Dense(50, input_dim=13244, activation='relu'))\n",
    "model.add(Dense(25, activation='relu'))\n",
    "model.add(Dense(10, activation='relu'))\n",
    "model.add(Dense(3, activation='softmax'))\n",
    "\n",
    "model.compile(loss='categorical_crossentropy', optimizer='adam', metrics=['accuracy'])"
   ]
  },
  {
   "cell_type": "markdown",
   "metadata": {},
   "source": [
    "Collect test data which the algorithm isn't trained on"
   ]
  },
  {
   "cell_type": "code",
   "execution_count": 33,
   "metadata": {
    "scrolled": false
   },
   "outputs": [
    {
     "name": "stderr",
     "output_type": "stream",
     "text": [
      "C:\\Users\\Louie\\Anaconda3\\envs\\deeplearning\\lib\\site-packages\\ipykernel_launcher.py:5: DeprecationWarning: The Windows bytes API has been deprecated, use Unicode filenames instead\n",
      "  \"\"\"\n"
     ]
    }
   ],
   "source": [
    "#Create set of test data to sample from\n",
    "\n",
    "dfs = []\n",
    "\n",
    "for index, file in enumerate(os.listdir(os.fsencode(test_path))):\n",
    "    df = pd.read_csv(test_path + str(os.fsdecode(file)), header=None)\n",
    "    dfs.append(df)\n",
    "\n",
    "test = pd.concat(dfs)"
   ]
  },
  {
   "cell_type": "markdown",
   "metadata": {},
   "source": [
    "Below we define helper functions for training the model. The function iterates through the entire dataset, completing one epoch. Each file is read into a dataframe, seperated into the features and labels, then updates the model (using Stochastic Gradient Descent). Every fifty files an accuracy measure is created by sampling from the test data. "
   ]
  },
  {
   "cell_type": "code",
   "execution_count": 23,
   "metadata": {},
   "outputs": [],
   "source": [
    "#Custom encoder.. necessary because batch files have only one label category\n",
    "\n",
    "def custom_encoder(label):\n",
    "    if label == 0:\n",
    "        return np.array([1,0,0])\n",
    "    elif label == 1:\n",
    "        return np.array([0,1,0])\n",
    "    else:\n",
    "        return np.array([0,0,1])"
   ]
  },
  {
   "cell_type": "code",
   "execution_count": 53,
   "metadata": {},
   "outputs": [],
   "source": [
    "import os\n",
    "\n",
    "#Custom training code..iterate through files Stochastically training the model\n",
    "#Test every 10 updates to track metrics\n",
    "\n",
    "def train_epoch(path, model, perf):\n",
    "\n",
    "    for index, file in enumerate(os.listdir(os.fsencode(path))):\n",
    "        df = pd.read_csv(path + str(os.fsdecode(file)), header=None)\n",
    "        \n",
    "        data = df.iloc[:,:-1]\n",
    "        \n",
    "        #Very ugly..I know\n",
    "        labels = np.concatenate(df[13244].astype(int).apply(custom_encoder).values).reshape(-1,3)\n",
    "        \n",
    "        model.train_on_batch(data, labels)\n",
    "        \n",
    "        if index % 50 == 0:\n",
    "            random_test = test.sample(frac=0.5)\n",
    "            test_labels = np.concatenate(random_test[13244].astype(int).apply(custom_encoder).values).reshape(-1,3)\n",
    "            score = model.test_on_batch(random_test.iloc[:,:-1], test_labels)\n",
    "            perf.append(score[1])\n",
    "    "
   ]
  },
  {
   "cell_type": "markdown",
   "metadata": {},
   "source": [
    "Train the model on 300 epochs of data and track the performance."
   ]
  },
  {
   "cell_type": "code",
   "execution_count": 54,
   "metadata": {},
   "outputs": [
    {
     "name": "stderr",
     "output_type": "stream",
     "text": [
      "C:\\Users\\Louie\\Anaconda3\\envs\\deeplearning\\lib\\site-packages\\ipykernel_launcher.py:8: DeprecationWarning: The Windows bytes API has been deprecated, use Unicode filenames instead\n",
      "  \n"
     ]
    },
    {
     "data": {
      "text/plain": [
       "0.9846154"
      ]
     },
     "execution_count": 54,
     "metadata": {},
     "output_type": "execute_result"
    }
   ],
   "source": [
    "perf = []\n",
    "\n",
    "for _ in range(300):\n",
    "    train_epoch(train_path, model, perf)\n",
    "\n",
    "max(perf)"
   ]
  },
  {
   "cell_type": "code",
   "execution_count": 57,
   "metadata": {},
   "outputs": [
    {
     "data": {
      "text/plain": [
       "[<matplotlib.lines.Line2D at 0x1b26ccc0>]"
      ]
     },
     "execution_count": 57,
     "metadata": {},
     "output_type": "execute_result"
    },
    {
     "data": {
      "image/png": "[encoded data removed]",
      "text/plain": [
       "<Figure size 576x396 with 1 Axes>"
      ]
     },
     "metadata": {},
     "output_type": "display_data"
    }
   ],
   "source": [
    "plt.plot(perf)"
   ]
  },
  {
   "cell_type": "code",
   "execution_count": 58,
   "metadata": {
    "scrolled": true
   },
   "outputs": [
    {
     "data": {
      "text/plain": [
       "[0.92,\n",
       " 0.9107692,\n",
       " 0.9169231,\n",
       " 0.9046154,\n",
       " 0.92,\n",
       " 0.92923075,\n",
       " 0.93846154,\n",
       " 0.92923075,\n",
       " 0.92923075,\n",
       " 0.9076923]"
      ]
     },
     "execution_count": 58,
     "metadata": {},
     "output_type": "execute_result"
    }
   ],
   "source": [
    "perf[-10:]"
   ]
  },
  {
   "cell_type": "markdown",
   "metadata": {},
   "source": [
    "Performance here is solid and imporved upon our benchmark considerably however there is an issue with the data which I believe is limiting the model. Each file has only one cateogry of data and even more concerning is all data that is similar in time frame meaning all the images are very similar. When training the model each file causes an update to the model parameters. By training on very similar data that is not represenative of population the model may be overfitting with each update creating sporadic performance and limiting the precision of the model. In the next section I reshuffle the data to help remedy this issue."
   ]
  },
  {
   "cell_type": "code",
   "execution_count": null,
   "metadata": {},
   "outputs": [],
   "source": []
  },
  {
   "cell_type": "code",
   "execution_count": null,
   "metadata": {},
   "outputs": [],
   "source": []
  },
  {
   "cell_type": "code",
   "execution_count": null,
   "metadata": {},
   "outputs": [],
   "source": []
  },
  {
   "cell_type": "code",
   "execution_count": null,
   "metadata": {},
   "outputs": [],
   "source": []
  },
  {
   "cell_type": "code",
   "execution_count": null,
   "metadata": {},
   "outputs": [],
   "source": []
  },
  {
   "cell_type": "code",
   "execution_count": null,
   "metadata": {},
   "outputs": [],
   "source": []
  },
  {
   "cell_type": "code",
   "execution_count": null,
   "metadata": {},
   "outputs": [],
   "source": []
  },
  {
   "cell_type": "code",
   "execution_count": null,
   "metadata": {},
   "outputs": [],
   "source": []
  },
  {
   "cell_type": "code",
   "execution_count": null,
   "metadata": {},
   "outputs": [],
   "source": []
  },
  {
   "cell_type": "code",
   "execution_count": null,
   "metadata": {},
   "outputs": [],
   "source": []
  },
  {
   "cell_type": "code",
   "execution_count": null,
   "metadata": {},
   "outputs": [],
   "source": []
  },
  {
   "cell_type": "code",
   "execution_count": null,
   "metadata": {},
   "outputs": [],
   "source": []
  },
  {
   "cell_type": "code",
   "execution_count": null,
   "metadata": {},
   "outputs": [],
   "source": []
  },
  {
   "cell_type": "code",
   "execution_count": null,
   "metadata": {},
   "outputs": [],
   "source": []
  },
  {
   "cell_type": "code",
   "execution_count": null,
   "metadata": {},
   "outputs": [],
   "source": []
  },
  {
   "cell_type": "code",
   "execution_count": null,
   "metadata": {},
   "outputs": [],
   "source": []
  },
  {
   "cell_type": "code",
   "execution_count": null,
   "metadata": {},
   "outputs": [],
   "source": []
  },
  {
   "cell_type": "code",
   "execution_count": null,
   "metadata": {},
   "outputs": [],
   "source": []
  },
  {
   "cell_type": "code",
   "execution_count": null,
   "metadata": {},
   "outputs": [],
   "source": []
  },
  {
   "cell_type": "code",
   "execution_count": null,
   "metadata": {},
   "outputs": [],
   "source": []
  }
 ],
 "metadata": {
  "kernelspec": {
   "display_name": "Python 3",
   "language": "python",
   "name": "python3"
  },
  "language_info": {
   "codemirror_mode": {
    "name": "ipython",
    "version": 3
   },
   "file_extension": ".py",
   "mimetype": "text/x-python",
   "name": "python",
   "nbconvert_exporter": "python",
   "pygments_lexer": "ipython3",
   "version": "3.6.4"
  }
 },
 "nbformat": 4,
 "nbformat_minor": 2
}
