{
 "cells": [
  {
   "cell_type": "markdown",
   "metadata": {},
   "source": [
    "## 2. Benchmark\n",
    "\n",
    "In this notebook we experiment with the data by compresing it to a size reasonable for standard algorithms and then fit it to a model. This gives us a benchmark performance to compare with our Nueral Network models. "
   ]
  },
  {
   "cell_type": "code",
   "execution_count": 6,
   "metadata": {},
   "outputs": [],
   "source": [
    "#Standard imports\n",
    "\n",
    "import numpy as np\n",
    "import pandas as pd\n",
    "import os\n",
    "path = 'C:\\\\Users\\\\Louie\\\\Data\\\\Springboard_Cap2\\\\Test\\\\'"
   ]
  },
  {
   "cell_type": "code",
   "execution_count": 30,
   "metadata": {},
   "outputs": [
    {
     "data": {
      "text/html": [
       "<div>\n",
       "<style scoped>\n",
       "    .dataframe tbody tr th:only-of-type {\n",
       "        vertical-align: middle;\n",
       "    }\n",
       "\n",
       "    .dataframe tbody tr th {\n",
       "        vertical-align: top;\n",
       "    }\n",
       "\n",
       "    .dataframe thead th {\n",
       "        text-align: right;\n",
       "    }\n",
       "</style>\n",
       "<table border=\"1\" class=\"dataframe\">\n",
       "  <thead>\n",
       "    <tr style=\"text-align: right;\">\n",
       "      <th></th>\n",
       "      <th>0</th>\n",
       "      <th>1</th>\n",
       "      <th>2</th>\n",
       "      <th>3</th>\n",
       "      <th>4</th>\n",
       "      <th>5</th>\n",
       "      <th>6</th>\n",
       "      <th>7</th>\n",
       "      <th>8</th>\n",
       "      <th>9</th>\n",
       "      <th>...</th>\n",
       "      <th>13234</th>\n",
       "      <th>13235</th>\n",
       "      <th>13236</th>\n",
       "      <th>13237</th>\n",
       "      <th>13238</th>\n",
       "      <th>13239</th>\n",
       "      <th>13240</th>\n",
       "      <th>13241</th>\n",
       "      <th>13242</th>\n",
       "      <th>13243</th>\n",
       "    </tr>\n",
       "  </thead>\n",
       "  <tbody>\n",
       "    <tr>\n",
       "      <th>0</th>\n",
       "      <td>0.278551</td>\n",
       "      <td>0.332245</td>\n",
       "      <td>0.334868</td>\n",
       "      <td>0.332245</td>\n",
       "      <td>0.338931</td>\n",
       "      <td>0.335785</td>\n",
       "      <td>0.346523</td>\n",
       "      <td>0.343990</td>\n",
       "      <td>0.346027</td>\n",
       "      <td>0.354965</td>\n",
       "      <td>...</td>\n",
       "      <td>0.827359</td>\n",
       "      <td>0.825127</td>\n",
       "      <td>0.832944</td>\n",
       "      <td>0.842221</td>\n",
       "      <td>0.839381</td>\n",
       "      <td>0.848091</td>\n",
       "      <td>0.848579</td>\n",
       "      <td>0.848656</td>\n",
       "      <td>0.845545</td>\n",
       "      <td>0.851650</td>\n",
       "    </tr>\n",
       "    <tr>\n",
       "      <th>1</th>\n",
       "      <td>0.302227</td>\n",
       "      <td>0.337168</td>\n",
       "      <td>0.337455</td>\n",
       "      <td>0.335710</td>\n",
       "      <td>0.347806</td>\n",
       "      <td>0.347931</td>\n",
       "      <td>0.347366</td>\n",
       "      <td>0.347366</td>\n",
       "      <td>0.355590</td>\n",
       "      <td>0.353527</td>\n",
       "      <td>...</td>\n",
       "      <td>0.831211</td>\n",
       "      <td>0.827076</td>\n",
       "      <td>0.825912</td>\n",
       "      <td>0.836891</td>\n",
       "      <td>0.844074</td>\n",
       "      <td>0.848091</td>\n",
       "      <td>0.850331</td>\n",
       "      <td>0.850331</td>\n",
       "      <td>0.846409</td>\n",
       "      <td>0.851711</td>\n",
       "    </tr>\n",
       "    <tr>\n",
       "      <th>2</th>\n",
       "      <td>0.343595</td>\n",
       "      <td>0.334355</td>\n",
       "      <td>0.340464</td>\n",
       "      <td>0.351578</td>\n",
       "      <td>0.343777</td>\n",
       "      <td>0.336732</td>\n",
       "      <td>0.351452</td>\n",
       "      <td>0.348867</td>\n",
       "      <td>0.354343</td>\n",
       "      <td>0.346472</td>\n",
       "      <td>...</td>\n",
       "      <td>0.825815</td>\n",
       "      <td>0.829048</td>\n",
       "      <td>0.832970</td>\n",
       "      <td>0.844735</td>\n",
       "      <td>0.848091</td>\n",
       "      <td>0.851884</td>\n",
       "      <td>0.852012</td>\n",
       "      <td>0.852578</td>\n",
       "      <td>0.841624</td>\n",
       "      <td>0.855067</td>\n",
       "    </tr>\n",
       "    <tr>\n",
       "      <th>3</th>\n",
       "      <td>0.335936</td>\n",
       "      <td>0.337815</td>\n",
       "      <td>0.341737</td>\n",
       "      <td>0.334760</td>\n",
       "      <td>0.335970</td>\n",
       "      <td>0.340356</td>\n",
       "      <td>0.338552</td>\n",
       "      <td>0.342499</td>\n",
       "      <td>0.352121</td>\n",
       "      <td>0.348199</td>\n",
       "      <td>...</td>\n",
       "      <td>0.828483</td>\n",
       "      <td>0.828483</td>\n",
       "      <td>0.833253</td>\n",
       "      <td>0.836326</td>\n",
       "      <td>0.848091</td>\n",
       "      <td>0.850459</td>\n",
       "      <td>0.855556</td>\n",
       "      <td>0.848091</td>\n",
       "      <td>0.852012</td>\n",
       "      <td>0.854890</td>\n",
       "    </tr>\n",
       "    <tr>\n",
       "      <th>4</th>\n",
       "      <td>0.341171</td>\n",
       "      <td>0.355988</td>\n",
       "      <td>0.352418</td>\n",
       "      <td>0.343288</td>\n",
       "      <td>0.345669</td>\n",
       "      <td>0.344875</td>\n",
       "      <td>0.355469</td>\n",
       "      <td>0.355469</td>\n",
       "      <td>0.355469</td>\n",
       "      <td>0.359391</td>\n",
       "      <td>...</td>\n",
       "      <td>0.828712</td>\n",
       "      <td>0.848472</td>\n",
       "      <td>0.844169</td>\n",
       "      <td>0.848091</td>\n",
       "      <td>0.852578</td>\n",
       "      <td>0.854946</td>\n",
       "      <td>0.858989</td>\n",
       "      <td>0.852012</td>\n",
       "      <td>0.852012</td>\n",
       "      <td>0.856499</td>\n",
       "    </tr>\n",
       "  </tbody>\n",
       "</table>\n",
       "<p>5 rows × 13244 columns</p>\n",
       "</div>"
      ],
      "text/plain": [
       "      0         1         2         3         4         5         6      \\\n",
       "0  0.278551  0.332245  0.334868  0.332245  0.338931  0.335785  0.346523   \n",
       "1  0.302227  0.337168  0.337455  0.335710  0.347806  0.347931  0.347366   \n",
       "2  0.343595  0.334355  0.340464  0.351578  0.343777  0.336732  0.351452   \n",
       "3  0.335936  0.337815  0.341737  0.334760  0.335970  0.340356  0.338552   \n",
       "4  0.341171  0.355988  0.352418  0.343288  0.345669  0.344875  0.355469   \n",
       "\n",
       "      7         8         9        ...        13234     13235     13236  \\\n",
       "0  0.343990  0.346027  0.354965    ...     0.827359  0.825127  0.832944   \n",
       "1  0.347366  0.355590  0.353527    ...     0.831211  0.827076  0.825912   \n",
       "2  0.348867  0.354343  0.346472    ...     0.825815  0.829048  0.832970   \n",
       "3  0.342499  0.352121  0.348199    ...     0.828483  0.828483  0.833253   \n",
       "4  0.355469  0.355469  0.359391    ...     0.828712  0.848472  0.844169   \n",
       "\n",
       "      13237     13238     13239     13240     13241     13242     13243  \n",
       "0  0.842221  0.839381  0.848091  0.848579  0.848656  0.845545  0.851650  \n",
       "1  0.836891  0.844074  0.848091  0.850331  0.850331  0.846409  0.851711  \n",
       "2  0.844735  0.848091  0.851884  0.852012  0.852578  0.841624  0.855067  \n",
       "3  0.836326  0.848091  0.850459  0.855556  0.848091  0.852012  0.854890  \n",
       "4  0.848091  0.852578  0.854946  0.858989  0.852012  0.852012  0.856499  \n",
       "\n",
       "[5 rows x 13244 columns]"
      ]
     },
     "execution_count": 30,
     "metadata": {},
     "output_type": "execute_result"
    }
   ],
   "source": [
    "#Gather data for PCA\n",
    "\n",
    "dfs = []\n",
    "\n",
    "for index, file in enumerate(os.listdir(os.fsencode(path))):\n",
    "    df = pd.read_csv(path + str(os.fsdecode(file)), header=None)\n",
    "    dfs.append(df)\n",
    "    \n",
    "    if index == 9:\n",
    "        break\n",
    "\n",
    "fit = pd.concat(dfs)\n",
    "fit.iloc[:,:-1].head()"
   ]
  },
  {
   "cell_type": "code",
   "execution_count": 31,
   "metadata": {},
   "outputs": [],
   "source": [
    "#prime PCA model for transforms\n",
    "\n",
    "from sklearn.decomposition import PCA\n",
    "pca = PCA(n_components=10)\n",
    "pca.fit(fit.iloc[:,:-1])\n",
    "\n",
    "#Save precious RAM!!\n",
    "fit = None \n",
    "dfs = None\n",
    "df = None"
   ]
  },
  {
   "cell_type": "code",
   "execution_count": 36,
   "metadata": {},
   "outputs": [],
   "source": [
    "#Transform all data to 10 dimensions using PCA\n",
    "\n",
    "dfs = []\n",
    "series = []\n",
    "\n",
    "for index, file in enumerate(os.listdir(os.fsencode(path))):\n",
    "    df = pd.read_csv(path + str(os.fsdecode(file)), header=None)\n",
    "    series.append(df[13244])\n",
    "    dfs.append(pd.DataFrame(pca.transform(df.iloc[:,:-1])))\n",
    "\n",
    "data = pd.concat(dfs)\n",
    "labels = pd.concat(series)"
   ]
  },
  {
   "cell_type": "code",
   "execution_count": 37,
   "metadata": {},
   "outputs": [
    {
     "data": {
      "text/plain": [
       "(650, 10)"
      ]
     },
     "execution_count": 37,
     "metadata": {},
     "output_type": "execute_result"
    }
   ],
   "source": [
    "data.shape"
   ]
  },
  {
   "cell_type": "code",
   "execution_count": 38,
   "metadata": {},
   "outputs": [
    {
     "data": {
      "text/plain": [
       "(650,)"
      ]
     },
     "execution_count": 38,
     "metadata": {},
     "output_type": "execute_result"
    }
   ],
   "source": [
    "labels.shape"
   ]
  },
  {
   "cell_type": "code",
   "execution_count": 44,
   "metadata": {},
   "outputs": [],
   "source": [
    "from sklearn.model_selection import train_test_split\n",
    "\n",
    "X_train, X_test, y_train, y_test = train_test_split(data, labels.astype(int), test_size=0.33)"
   ]
  },
  {
   "cell_type": "code",
   "execution_count": 47,
   "metadata": {},
   "outputs": [
    {
     "name": "stdout",
     "output_type": "stream",
     "text": [
      "0.8744186046511628\n"
     ]
    }
   ],
   "source": [
    "#Fit and Score our model!\n",
    "\n",
    "from sklearn.ensemble import RandomForestClassifier\n",
    "\n",
    "rfc = RandomForestClassifier(n_estimators=100, max_depth=2)\n",
    "rfc.fit(X_train, y_train)\n",
    "score = rfc.score(X_test, y_test)\n",
    "\n",
    "print(score)"
   ]
  },
  {
   "cell_type": "markdown",
   "metadata": {},
   "source": [
    "### Model Performance?\n",
    "\n",
    "As we can see the model has a somewhat remarkable 87.4% accuracy! We could tweak this pipeline by adjusting the dimensionality of the data, tuning different models, and even using all the available data instead of the small sample of 650 images. This may increase performance but here we are using this as a way to compare the effectiveness of our Nueral Network models on this complex problem."
   ]
  },
  {
   "cell_type": "code",
   "execution_count": null,
   "metadata": {},
   "outputs": [],
   "source": []
  },
  {
   "cell_type": "code",
   "execution_count": null,
   "metadata": {},
   "outputs": [],
   "source": []
  },
  {
   "cell_type": "code",
   "execution_count": null,
   "metadata": {},
   "outputs": [],
   "source": []
  },
  {
   "cell_type": "code",
   "execution_count": null,
   "metadata": {},
   "outputs": [],
   "source": []
  },
  {
   "cell_type": "code",
   "execution_count": null,
   "metadata": {},
   "outputs": [],
   "source": []
  },
  {
   "cell_type": "code",
   "execution_count": null,
   "metadata": {},
   "outputs": [],
   "source": []
  },
  {
   "cell_type": "code",
   "execution_count": null,
   "metadata": {},
   "outputs": [],
   "source": []
  },
  {
   "cell_type": "code",
   "execution_count": null,
   "metadata": {},
   "outputs": [],
   "source": []
  },
  {
   "cell_type": "code",
   "execution_count": null,
   "metadata": {},
   "outputs": [],
   "source": []
  },
  {
   "cell_type": "code",
   "execution_count": null,
   "metadata": {},
   "outputs": [],
   "source": []
  },
  {
   "cell_type": "code",
   "execution_count": null,
   "metadata": {},
   "outputs": [],
   "source": []
  },
  {
   "cell_type": "code",
   "execution_count": null,
   "metadata": {},
   "outputs": [],
   "source": []
  },
  {
   "cell_type": "code",
   "execution_count": null,
   "metadata": {},
   "outputs": [],
   "source": []
  },
  {
   "cell_type": "code",
   "execution_count": null,
   "metadata": {},
   "outputs": [],
   "source": []
  },
  {
   "cell_type": "code",
   "execution_count": null,
   "metadata": {},
   "outputs": [],
   "source": []
  },
  {
   "cell_type": "code",
   "execution_count": null,
   "metadata": {},
   "outputs": [],
   "source": []
  },
  {
   "cell_type": "code",
   "execution_count": null,
   "metadata": {},
   "outputs": [],
   "source": []
  },
  {
   "cell_type": "code",
   "execution_count": null,
   "metadata": {},
   "outputs": [],
   "source": []
  },
  {
   "cell_type": "code",
   "execution_count": null,
   "metadata": {},
   "outputs": [],
   "source": []
  },
  {
   "cell_type": "code",
   "execution_count": null,
   "metadata": {},
   "outputs": [],
   "source": []
  },
  {
   "cell_type": "code",
   "execution_count": null,
   "metadata": {},
   "outputs": [],
   "source": []
  },
  {
   "cell_type": "code",
   "execution_count": null,
   "metadata": {},
   "outputs": [],
   "source": []
  },
  {
   "cell_type": "code",
   "execution_count": null,
   "metadata": {},
   "outputs": [],
   "source": []
  },
  {
   "cell_type": "code",
   "execution_count": null,
   "metadata": {},
   "outputs": [],
   "source": []
  },
  {
   "cell_type": "code",
   "execution_count": null,
   "metadata": {},
   "outputs": [],
   "source": []
  },
  {
   "cell_type": "code",
   "execution_count": null,
   "metadata": {},
   "outputs": [],
   "source": []
  },
  {
   "cell_type": "code",
   "execution_count": null,
   "metadata": {},
   "outputs": [],
   "source": []
  },
  {
   "cell_type": "code",
   "execution_count": null,
   "metadata": {},
   "outputs": [],
   "source": []
  },
  {
   "cell_type": "code",
   "execution_count": null,
   "metadata": {},
   "outputs": [],
   "source": []
  },
  {
   "cell_type": "code",
   "execution_count": null,
   "metadata": {},
   "outputs": [],
   "source": []
  },
  {
   "cell_type": "code",
   "execution_count": null,
   "metadata": {},
   "outputs": [],
   "source": []
  },
  {
   "cell_type": "code",
   "execution_count": null,
   "metadata": {},
   "outputs": [],
   "source": []
  }
 ],
 "metadata": {
  "kernelspec": {
   "display_name": "Python 3",
   "language": "python",
   "name": "python3"
  },
  "language_info": {
   "codemirror_mode": {
    "name": "ipython",
    "version": 3
   },
   "file_extension": ".py",
   "mimetype": "text/x-python",
   "name": "python",
   "nbconvert_exporter": "python",
   "pygments_lexer": "ipython3",
   "version": "3.6.4"
  }
 },
 "nbformat": 4,
 "nbformat_minor": 2
}
