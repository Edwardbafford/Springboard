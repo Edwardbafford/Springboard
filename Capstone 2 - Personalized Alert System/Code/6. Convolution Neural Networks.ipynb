{
 "cells": [
  {
   "cell_type": "code",
   "execution_count": 1,
   "metadata": {},
   "outputs": [
    {
     "name": "stderr",
     "output_type": "stream",
     "text": [
      "Using TensorFlow backend.\n",
      "C:\\Users\\Louie\\Anaconda3\\envs\\deeplearning\\lib\\site-packages\\skimage\\viewer\\utils\\core.py:10: UserWarning: Recommended matplotlib backend is `Agg` for full skimage.viewer functionality.\n",
      "  warn(\"Recommended matplotlib backend is `Agg` for full \"\n"
     ]
    }
   ],
   "source": [
    "import pandas as pd\n",
    "import numpy as np\n",
    "from keras.models import Sequential\n",
    "from keras.layers import Dense, Conv2D, Flatten\n",
    "import matplotlib.pyplot as plt\n",
    "from skimage import io, viewer\n",
    "import random\n",
    "\n",
    "plt.style.use('seaborn')\n",
    "\n",
    "# fix random seed for reproducibility\n",
    "np.random.seed(7)\n",
    "\n",
    "train_path = 'C:\\\\Users\\\\Louie\\\\Data\\\\Springboard_Cap2\\\\Train2\\\\'\n",
    "test_path = 'C:\\\\Users\\\\Louie\\\\Data\\\\Springboard_Cap2\\\\Test2\\\\'\n",
    "prediction_path = 'C:\\\\Users\\\\Louie\\\\Data\\\\Springboard_Cap2\\\\Predictions\\\\'"
   ]
  },
  {
   "cell_type": "markdown",
   "metadata": {},
   "source": [
    "### Aggregate Data"
   ]
  },
  {
   "cell_type": "code",
   "execution_count": 52,
   "metadata": {},
   "outputs": [
    {
     "name": "stderr",
     "output_type": "stream",
     "text": [
      "C:\\Users\\Louie\\Anaconda3\\envs\\deeplearning\\lib\\site-packages\\ipykernel_launcher.py:6: DeprecationWarning: The Windows bytes API has been deprecated, use Unicode filenames instead\n",
      "  \n",
      "C:\\Users\\Louie\\Anaconda3\\envs\\deeplearning\\lib\\site-packages\\ipykernel_launcher.py:9: DeprecationWarning: The Windows bytes API has been deprecated, use Unicode filenames instead\n",
      "  if __name__ == '__main__':\n"
     ]
    }
   ],
   "source": [
    "import os\n",
    "\n",
    "train_files = []\n",
    "test_files = []\n",
    "\n",
    "for index, file in enumerate(os.listdir(os.fsencode(train_path))):\n",
    "    train_files.append(str(os.fsdecode(file)))\n",
    "\n",
    "for index, file in enumerate(os.listdir(os.fsencode(test_path))):\n",
    "    test_files.append(str(os.fsdecode(file)))"
   ]
  },
  {
   "cell_type": "markdown",
   "metadata": {},
   "source": [
    "### Validate Image Dimensions"
   ]
  },
  {
   "cell_type": "code",
   "execution_count": 5,
   "metadata": {},
   "outputs": [
    {
     "data": {
      "text/plain": [
       "[]"
      ]
     },
     "execution_count": 5,
     "metadata": {},
     "output_type": "execute_result"
    }
   ],
   "source": [
    "df = pd.read_csv(train_path + random.choice(train_files), index_col=0)\n",
    "test_img = df.iloc[0,:-1]\n",
    "viewer.ImageViewer(test_img.values.reshape(86, 154)).show()"
   ]
  },
  {
   "cell_type": "markdown",
   "metadata": {},
   "source": [
    "### Build Basic Model"
   ]
  },
  {
   "cell_type": "code",
   "execution_count": 13,
   "metadata": {},
   "outputs": [],
   "source": [
    "model = Sequential()\n",
    "model.add(Conv2D(7, kernel_size=3, activation='relu', input_shape=(86, 154, 1)))\n",
    "model.add(Conv2D(3, kernel_size=5, activation='relu'))\n",
    "model.add(Flatten())\n",
    "model.add(Dense(3, activation='softmax'))\n",
    "model.compile(optimizer='adam', loss='categorical_crossentropy', metrics=['accuracy'])"
   ]
  },
  {
   "cell_type": "markdown",
   "metadata": {},
   "source": [
    "### Helper Functions"
   ]
  },
  {
   "cell_type": "code",
   "execution_count": 4,
   "metadata": {},
   "outputs": [],
   "source": [
    "def custom_encoder(label):\n",
    "    if label == 0:\n",
    "        return np.array([1,0,0])\n",
    "    elif label == 1:\n",
    "        return np.array([0,1,0])\n",
    "    else:\n",
    "        return np.array([0,0,1])"
   ]
  },
  {
   "cell_type": "code",
   "execution_count": 16,
   "metadata": {},
   "outputs": [],
   "source": [
    "def train_models(model, train_path, train_files):\n",
    "    df = pd.read_csv(train_path + random.choice(train_files), index_col=0)\n",
    "    df = df.sample(frac=.1)\n",
    "    data = df.iloc[:,:-1].values.reshape(-1, 86, 154, 1)\n",
    "    labels = np.concatenate(df['13244'].astype(int).apply(custom_encoder).values).reshape(-1,3)\n",
    "    model.train_on_batch(data, labels)"
   ]
  },
  {
   "cell_type": "code",
   "execution_count": 20,
   "metadata": {},
   "outputs": [],
   "source": [
    "perf = []\n",
    "\n",
    "def test_models(model, test_path, test_files, perf):\n",
    "    df = pd.read_csv(test_path + random.choice(test_files), index_col=0).sample(frac=0.5)\n",
    "    data = df.iloc[:,:-1].values.reshape(-1, 86, 154, 1)\n",
    "    labels = np.concatenate(df['13244'].astype(int).apply(custom_encoder).values).reshape(-1,3)\n",
    "    score = model.test_on_batch(data, labels)\n",
    "    perf.append(score[1])"
   ]
  },
  {
   "cell_type": "markdown",
   "metadata": {},
   "source": [
    "### Train over ~150 data run throughs"
   ]
  },
  {
   "cell_type": "code",
   "execution_count": 25,
   "metadata": {},
   "outputs": [
    {
     "data": {
      "image/png": "[encoded data removed]",
      "text/plain": [
       "<Figure size 432x288 with 1 Axes>"
      ]
     },
     "metadata": {
      "needs_background": "light"
     },
     "output_type": "display_data"
    }
   ],
   "source": [
    "epochs = 150\n",
    "file_count = 20\n",
    "frac = 10\n",
    "\n",
    "for index in range(epochs * file_count * frac):\n",
    "    train_models(model, train_path, train_files)\n",
    "    \n",
    "    if (index + 1) % (file_count * frac) == 0:\n",
    "        test_models(model, test_path, test_files, perf)\n",
    "\n",
    "_ = plt.plot(perf)"
   ]
  },
  {
   "cell_type": "code",
   "execution_count": 26,
   "metadata": {},
   "outputs": [],
   "source": [
    "model.save('cnn.h5')"
   ]
  },
  {
   "cell_type": "code",
   "execution_count": 27,
   "metadata": {},
   "outputs": [
    {
     "data": {
      "text/plain": [
       "0.9897959"
      ]
     },
     "execution_count": 27,
     "metadata": {},
     "output_type": "execute_result"
    }
   ],
   "source": [
    "max(perf)"
   ]
  },
  {
   "cell_type": "code",
   "execution_count": 30,
   "metadata": {},
   "outputs": [
    {
     "data": {
      "text/plain": [
       "0.9497820419073105"
      ]
     },
     "execution_count": 30,
     "metadata": {},
     "output_type": "execute_result"
    }
   ],
   "source": [
    "sum(perf[-100:]) / 100"
   ]
  },
  {
   "cell_type": "markdown",
   "metadata": {},
   "source": [
    "### Collect Model Predictions"
   ]
  },
  {
   "cell_type": "code",
   "execution_count": 56,
   "metadata": {
    "scrolled": true
   },
   "outputs": [
    {
     "name": "stdout",
     "output_type": "stream",
     "text": [
      "Data229.csv\n",
      "Data239.csv\n",
      "Data249.csv\n",
      "Data250.csv\n",
      "Data1.csv\n",
      "Data109.csv\n",
      "Data119.csv\n",
      "Data129.csv\n",
      "Data139.csv\n",
      "Data149.csv\n",
      "Data159.csv\n",
      "Data169.csv\n",
      "Data179.csv\n",
      "Data189.csv\n",
      "Data19.csv\n",
      "Data199.csv\n",
      "Data209.csv\n",
      "Data219.csv\n",
      "Data29.csv\n",
      "Data39.csv\n",
      "Data49.csv\n",
      "Data59.csv\n",
      "Data69.csv\n",
      "Data79.csv\n",
      "Data89.csv\n",
      "Data9.csv\n",
      "Data99.csv\n"
     ]
    }
   ],
   "source": [
    "#Write predictions to output file for analysis of model\n",
    "\n",
    "for file in test_files:\n",
    "    print(file)\n",
    "    df = pd.read_csv(test_path + file, index_col=0)\n",
    "    data = df.iloc[:,:-1].values.reshape(-1, 86, 154, 1)\n",
    "    labels = df['13244'].astype(int).values\n",
    "    predictions = np.argmax(model.predict(data), axis=1)\n",
    "    \n",
    "    output = pd.DataFrame({'labels':labels,'predictions':predictions})\n",
    "    \n",
    "    with open(prediction_path+'predictions.csv', 'a') as f: \n",
    "        output.to_csv(f, index=False, header=False)\n",
    "\n",
    "for file in train_files:\n",
    "    print(file)\n",
    "    df = pd.read_csv(train_path + file, index_col=0)\n",
    "    data = df.iloc[:,:-1].values.reshape(-1, 86, 154, 1)\n",
    "    labels = df['13244'].astype(int).values\n",
    "    predictions = np.argmax(model.predict(data), axis=1)\n",
    "    \n",
    "    output = pd.DataFrame({'labels':labels,'predictions':predictions})\n",
    "    \n",
    "    with open(prediction_path + 'predictions.csv', 'a') as f: \n",
    "        output.to_csv(f, index=False, header=False)"
   ]
  },
  {
   "cell_type": "markdown",
   "metadata": {},
   "source": [
    "### Evaluate Model Performance"
   ]
  },
  {
   "cell_type": "code",
   "execution_count": 2,
   "metadata": {
    "scrolled": false
   },
   "outputs": [
    {
     "data": {
      "text/html": [
       "<div>\n",
       "<style scoped>\n",
       "    .dataframe tbody tr th:only-of-type {\n",
       "        vertical-align: middle;\n",
       "    }\n",
       "\n",
       "    .dataframe tbody tr th {\n",
       "        vertical-align: top;\n",
       "    }\n",
       "\n",
       "    .dataframe thead th {\n",
       "        text-align: right;\n",
       "    }\n",
       "</style>\n",
       "<table border=\"1\" class=\"dataframe\">\n",
       "  <thead>\n",
       "    <tr style=\"text-align: right;\">\n",
       "      <th></th>\n",
       "      <th>labels</th>\n",
       "      <th>predictions</th>\n",
       "    </tr>\n",
       "  </thead>\n",
       "  <tbody>\n",
       "    <tr>\n",
       "      <th>0</th>\n",
       "      <td>1</td>\n",
       "      <td>1</td>\n",
       "    </tr>\n",
       "    <tr>\n",
       "      <th>1</th>\n",
       "      <td>0</td>\n",
       "      <td>0</td>\n",
       "    </tr>\n",
       "    <tr>\n",
       "      <th>2</th>\n",
       "      <td>0</td>\n",
       "      <td>0</td>\n",
       "    </tr>\n",
       "    <tr>\n",
       "      <th>3</th>\n",
       "      <td>1</td>\n",
       "      <td>1</td>\n",
       "    </tr>\n",
       "    <tr>\n",
       "      <th>4</th>\n",
       "      <td>0</td>\n",
       "      <td>0</td>\n",
       "    </tr>\n",
       "  </tbody>\n",
       "</table>\n",
       "</div>"
      ],
      "text/plain": [
       "   labels  predictions\n",
       "0       1            1\n",
       "1       0            0\n",
       "2       0            0\n",
       "3       1            1\n",
       "4       0            0"
      ]
     },
     "execution_count": 2,
     "metadata": {},
     "output_type": "execute_result"
    }
   ],
   "source": [
    "predicts = pd.read_csv(prediction_path + 'predictions.csv')\n",
    "predicts.head()"
   ]
  },
  {
   "cell_type": "code",
   "execution_count": 6,
   "metadata": {},
   "outputs": [
    {
     "data": {
      "text/plain": [
       "99.2360750574798"
      ]
     },
     "execution_count": 6,
     "metadata": {},
     "output_type": "execute_result"
    }
   ],
   "source": [
    "#Accuracy over all data\n",
    "(predicts['predictions'] == predicts['labels']).mean() * 100"
   ]
  },
  {
   "cell_type": "code",
   "execution_count": 13,
   "metadata": {},
   "outputs": [
    {
     "data": {
      "image/png": "[encoded data removed]",
      "text/plain": [
       "<Figure size 432x288 with 2 Axes>"
      ]
     },
     "metadata": {
      "needs_background": "light"
     },
     "output_type": "display_data"
    }
   ],
   "source": [
    "from sklearn.metrics import confusion_matrix\n",
    "import seaborn as sns\n",
    "\n",
    "#Confusion Matrix\n",
    "\n",
    "conf_matrix = confusion_matrix(predicts['labels'], predicts['predictions'])\n",
    "ax = sns.heatmap(conf_matrix, cmap='Blues', annot=True, xticklabels=['Pred Emptry', 'Pred In', 'Pred Take'], \n",
    "                 yticklabels=['Emptry', 'In', 'Take'])"
   ]
  },
  {
   "cell_type": "code",
   "execution_count": null,
   "metadata": {},
   "outputs": [],
   "source": []
  },
  {
   "cell_type": "code",
   "execution_count": null,
   "metadata": {},
   "outputs": [],
   "source": []
  },
  {
   "cell_type": "code",
   "execution_count": null,
   "metadata": {},
   "outputs": [],
   "source": []
  },
  {
   "cell_type": "code",
   "execution_count": null,
   "metadata": {},
   "outputs": [],
   "source": []
  },
  {
   "cell_type": "code",
   "execution_count": null,
   "metadata": {},
   "outputs": [],
   "source": []
  },
  {
   "cell_type": "code",
   "execution_count": null,
   "metadata": {},
   "outputs": [],
   "source": []
  },
  {
   "cell_type": "code",
   "execution_count": null,
   "metadata": {},
   "outputs": [],
   "source": []
  },
  {
   "cell_type": "code",
   "execution_count": null,
   "metadata": {},
   "outputs": [],
   "source": []
  },
  {
   "cell_type": "code",
   "execution_count": null,
   "metadata": {},
   "outputs": [],
   "source": []
  },
  {
   "cell_type": "code",
   "execution_count": null,
   "metadata": {},
   "outputs": [],
   "source": []
  },
  {
   "cell_type": "code",
   "execution_count": null,
   "metadata": {},
   "outputs": [],
   "source": []
  },
  {
   "cell_type": "code",
   "execution_count": null,
   "metadata": {},
   "outputs": [],
   "source": []
  }
 ],
 "metadata": {
  "kernelspec": {
   "display_name": "Python 3",
   "language": "python",
   "name": "python3"
  },
  "language_info": {
   "codemirror_mode": {
    "name": "ipython",
    "version": 3
   },
   "file_extension": ".py",
   "mimetype": "text/x-python",
   "name": "python",
   "nbconvert_exporter": "python",
   "pygments_lexer": "ipython3",
   "version": "3.5.6"
  }
 },
 "nbformat": 4,
 "nbformat_minor": 2
}
