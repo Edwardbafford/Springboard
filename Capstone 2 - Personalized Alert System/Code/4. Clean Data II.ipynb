{
 "cells": [
  {
   "cell_type": "markdown",
   "metadata": {},
   "source": [
    "## 4. Clean Data II\n",
    "In this section we take small dataset of similar data, aggregate them, shuffle, and resave into large more diverse datasets. These datasets will (hopefully) be better for training the Neural Network models."
   ]
  },
  {
   "cell_type": "code",
   "execution_count": 8,
   "metadata": {},
   "outputs": [],
   "source": [
    "import numpy as np\n",
    "import pandas as pd\n",
    "import os\n",
    "\n",
    "test = 'C:\\\\Users\\\\Louie\\\\Data\\\\Springboard_Cap2\\\\Test\\\\'\n",
    "train = 'C:\\\\Users\\\\Louie\\\\Data\\\\Springboard_Cap2\\\\Train\\\\'\n",
    "train2 = 'C:\\\\Users\\\\Louie\\\\Data\\\\Springboard_Cap2\\\\Train2\\\\'"
   ]
  },
  {
   "cell_type": "markdown",
   "metadata": {},
   "source": [
    "Aggregate and shuffle test data"
   ]
  },
  {
   "cell_type": "code",
   "execution_count": 12,
   "metadata": {},
   "outputs": [],
   "source": [
    "dfs = []\n",
    "\n",
    "for index, file in enumerate(os.listdir(os.fsencode(test))):\n",
    "    df = pd.read_csv(test + str(os.fsdecode(file)), header=None)\n",
    "    dfs.append(df)\n",
    "\n",
    "test_data = pd.concat(dfs)\n",
    "test_data.sample(frac=1, replace=False).to_csv(train2 + 'Data1.csv')"
   ]
  },
  {
   "cell_type": "code",
   "execution_count": 14,
   "metadata": {},
   "outputs": [],
   "source": [
    "dfs = []\n",
    "\n",
    "for index, file in enumerate(os.listdir(os.fsencode(train))):\n",
    "    df = pd.read_csv(train + str(os.fsdecode(file)), header=None)\n",
    "    dfs.append(df)\n",
    "    \n",
    "    if (index + 1) % 10 == 0:\n",
    "        data = pd.concat(dfs)\n",
    "        data.sample(frac=1, replace=False).to_csv(train2 + 'Data{0}.csv'.format(index))\n",
    "        dfs = []"
   ]
  },
  {
   "cell_type": "code",
   "execution_count": 15,
   "metadata": {},
   "outputs": [],
   "source": [
    "#Write remaining data\n",
    "data = pd.concat(dfs)\n",
    "data.sample(frac=1, replace=False).to_csv(train2 + 'Data{0}.csv'.format('_Final'))"
   ]
  },
  {
   "cell_type": "code",
   "execution_count": null,
   "metadata": {},
   "outputs": [],
   "source": []
  },
  {
   "cell_type": "code",
   "execution_count": null,
   "metadata": {},
   "outputs": [],
   "source": []
  },
  {
   "cell_type": "code",
   "execution_count": null,
   "metadata": {},
   "outputs": [],
   "source": []
  },
  {
   "cell_type": "code",
   "execution_count": null,
   "metadata": {},
   "outputs": [],
   "source": []
  },
  {
   "cell_type": "code",
   "execution_count": null,
   "metadata": {},
   "outputs": [],
   "source": []
  },
  {
   "cell_type": "code",
   "execution_count": null,
   "metadata": {},
   "outputs": [],
   "source": []
  },
  {
   "cell_type": "code",
   "execution_count": null,
   "metadata": {},
   "outputs": [],
   "source": []
  },
  {
   "cell_type": "code",
   "execution_count": null,
   "metadata": {},
   "outputs": [],
   "source": []
  },
  {
   "cell_type": "code",
   "execution_count": null,
   "metadata": {},
   "outputs": [],
   "source": []
  },
  {
   "cell_type": "code",
   "execution_count": null,
   "metadata": {},
   "outputs": [],
   "source": []
  },
  {
   "cell_type": "code",
   "execution_count": null,
   "metadata": {},
   "outputs": [],
   "source": []
  },
  {
   "cell_type": "code",
   "execution_count": null,
   "metadata": {},
   "outputs": [],
   "source": []
  }
 ],
 "metadata": {
  "kernelspec": {
   "display_name": "Python 3",
   "language": "python",
   "name": "python3"
  },
  "language_info": {
   "codemirror_mode": {
    "name": "ipython",
    "version": 3
   },
   "file_extension": ".py",
   "mimetype": "text/x-python",
   "name": "python",
   "nbconvert_exporter": "python",
   "pygments_lexer": "ipython3",
   "version": "3.6.4"
  }
 },
 "nbformat": 4,
 "nbformat_minor": 2
}
